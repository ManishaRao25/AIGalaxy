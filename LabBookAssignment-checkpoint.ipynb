{
 "cells": [
  {
   "cell_type": "markdown",
   "metadata": {},
   "source": [
    "# Day 1"
   ]
  },
  {
   "cell_type": "code",
   "execution_count": 1,
   "metadata": {},
   "outputs": [
    {
     "name": "stdout",
     "output_type": "stream",
     "text": [
      "Hello Manisha \n"
     ]
    }
   ],
   "source": [
    "#1 \n",
    "name = \"Manisha\"\n",
    "print( \"Hello {} \".format(name))"
   ]
  },
  {
   "cell_type": "code",
   "execution_count": 1,
   "metadata": {},
   "outputs": [
    {
     "name": "stdout",
     "output_type": "stream",
     "text": [
      "Enter the 1st number:78\n",
      "Enter the 2nd number:90\n",
      "Positive Number\n"
     ]
    }
   ],
   "source": [
    "#2\n",
    "a = int(input(\"Enter the 1st number:\"))\n",
    "b = int(input(\"Enter the 2nd number:\"))\n",
    "c = a + b\n",
    "if(c>0):\n",
    "    print(\"Positive Number\")\n",
    "elif(c<0):\n",
    "    print(\"Negative Number\")"
   ]
  },
  {
   "cell_type": "code",
   "execution_count": 2,
   "metadata": {},
   "outputs": [
    {
     "name": "stdout",
     "output_type": "stream",
     "text": [
      "Guess the number: 67\n",
      "Incorrect! Try again.\n",
      "Guess the number: 907\n",
      "Incorrect! Try again.\n",
      "Guess the number: 53\n",
      "Incorrect! Try again.\n",
      "Guess the number: 42\n",
      "Correct!\n"
     ]
    }
   ],
   "source": [
    "#3\n",
    "# Storing the correct number\n",
    "correct_number = 42\n",
    "\n",
    "\n",
    "while True:\n",
    "    try:\n",
    "        \n",
    "        user_input = int(input(\"Guess the number: \"))\n",
    "        \n",
    "        # Checking if the input matches the correct number\n",
    "        if user_input == correct_number:\n",
    "            print(\"Correct!\")\n",
    "            break  \n",
    "        else:\n",
    "            print(\"Incorrect! Try again.\")\n",
    "    except ValueError:\n",
    "        print(\"Invalid input. Please enter a valid number.\")\n"
   ]
  },
  {
   "cell_type": "code",
   "execution_count": 3,
   "metadata": {},
   "outputs": [
    {
     "name": "stdout",
     "output_type": "stream",
     "text": [
      "Manisha.Rao\n"
     ]
    }
   ],
   "source": [
    "#4\n",
    "firstname = \"Manisha\"\n",
    "lastname = \"Rao\"\n",
    "\n",
    "wholename = firstname + '.' + lastname\n",
    "\n",
    "print(wholename)\n"
   ]
  },
  {
   "cell_type": "code",
   "execution_count": 4,
   "metadata": {},
   "outputs": [
    {
     "name": "stdout",
     "output_type": "stream",
     "text": [
      "Enter a string: artificial intelligence is the new future\n",
      "Toggled string: ARTIFICIAL INTELLIGENCE IS THE NEW FUTURE\n"
     ]
    }
   ],
   "source": [
    "#5\n",
    "input_str = input(\"Enter a string: \")\n",
    "\n",
    "toggled_str = input_str.swapcase()\n",
    "\n",
    "print(\"Toggled string:\", toggled_str)\n"
   ]
  },
  {
   "cell_type": "code",
   "execution_count": 5,
   "metadata": {},
   "outputs": [
    {
     "name": "stdout",
     "output_type": "stream",
     "text": [
      "Sum: 10\n",
      "Multiplication: 24\n"
     ]
    }
   ],
   "source": [
    "#6\n",
    "def sum_of_list(numbers):\n",
    "\n",
    "    total_sum = 0\n",
    "    for num in numbers:\n",
    "        total_sum += num\n",
    "    return total_sum\n",
    "\n",
    "def multiply_of_list(numbers):\n",
    "\n",
    "    product = 1\n",
    "    for num in numbers:\n",
    "        product *= num\n",
    "    return product\n",
    "\n",
    "# Test the functions\n",
    "numbers = [1, 2, 3, 4]\n",
    "print(\"Sum:\", sum_of_list(numbers))\n",
    "print(\"Multiplication:\", multiply_of_list(numbers))\n"
   ]
  },
  {
   "cell_type": "code",
   "execution_count": 6,
   "metadata": {},
   "outputs": [
    {
     "name": "stdout",
     "output_type": "stream",
     "text": [
      "True\n",
      "False\n"
     ]
    }
   ],
   "source": [
    "#7 \n",
    "def is_member(x, a):\n",
    "\n",
    "    for item in a:\n",
    "        if item == x:\n",
    "            return True\n",
    "    return False\n",
    "\n",
    "# Test the function\n",
    "a = [1, 2, 3, 4, 5]\n",
    "x = 3\n",
    "print(is_member(x, a))\n",
    "\n",
    "x = 6\n",
    "print(is_member(x, a)) \n"
   ]
  },
  {
   "cell_type": "code",
   "execution_count": 7,
   "metadata": {},
   "outputs": [
    {
     "name": "stdout",
     "output_type": "stream",
     "text": [
      "True\n"
     ]
    }
   ],
   "source": [
    "#8\n",
    "def have_common_member(list1, list2):\n",
    "    for item1 in list1:\n",
    "        for item2 in list2:\n",
    "            if item1 == item2:\n",
    "                return True\n",
    "    return False\n",
    "\n",
    "\n",
    "list1 = [1, 5, 3, 4, 5]\n",
    "list2 = [6, 7, 4, 9, 10]\n",
    "\n",
    "result = have_common_member(list1, list2)\n",
    "print(result)"
   ]
  },
  {
   "cell_type": "code",
   "execution_count": 4,
   "metadata": {},
   "outputs": [
    {
     "name": "stdout",
     "output_type": "stream",
     "text": [
      "*****\n",
      "*********\n",
      "**************\n"
     ]
    }
   ],
   "source": [
    "#9\n",
    "def histogram(data):\n",
    "    for num in data:\n",
    "        print('*' * num)\n",
    "\n",
    "data = [5, 9, 14]\n",
    "\n",
    "histogram(data)"
   ]
  },
  {
   "cell_type": "code",
   "execution_count": 8,
   "metadata": {},
   "outputs": [
    {
     "name": "stdout",
     "output_type": "stream",
     "text": [
      "Athletes who participated only in 100m race: {'Vaihai', 'John', 'Vikay', 'Rajesh'}\n",
      "Athletes who participated only in 200m race: {'Petter', 'Priyanka', 'Vetry'}\n",
      "Athletes who participated both in 100m and 200m race: {'Malar', 'Kumar'}\n",
      "Athletes who participated only in one race: {'Vaihai', 'Vikay', 'Petter', 'Rajesh', 'Priyanka', 'John', 'Vetry'}\n"
     ]
    }
   ],
   "source": [
    "#10\n",
    "hundred_meters = ['Vikay', 'John', 'Kumar', 'Rajesh', 'Malar', 'Vaihai']\n",
    "two_hundred_meters = ['Vetry', 'Petter', 'Priyanka', 'Kumar', 'Malar']\n",
    "    \n",
    "hundred_meters_set = set(hundred_meters)\n",
    "two_hundred_meters_set = set(two_hundred_meters)\n",
    "\n",
    "only_in_100m = hundred_meters_set - two_hundred_meters_set\n",
    "print(\"Athletes who participated only in 100m race:\", only_in_100m)\n",
    "\n",
    "only_in_200m = two_hundred_meters_set - hundred_meters_set\n",
    "print(\"Athletes who participated only in 200m race:\", only_in_200m)\n",
    "\n",
    "both_races = hundred_meters_set.intersection(two_hundred_meters_set)\n",
    "print(\"Athletes who participated both in 100m and 200m race:\", both_races)\n",
    "\n",
    "only_one_race = (hundred_meters_set - both_races) | (two_hundred_meters_set - both_races)\n",
    "print(\"Athletes who participated only in one race:\", only_one_race)\n"
   ]
  },
  {
   "cell_type": "code",
   "execution_count": 7,
   "metadata": {},
   "outputs": [
    {
     "name": "stdout",
     "output_type": "stream",
     "text": [
      "Duplicate numbers in the list are: [8, 8, 18, 5, 3]\n"
     ]
    }
   ],
   "source": [
    "#11\n",
    "List = [5, 8, 4, 18, 8, 55, 6, 8, 3, 18, 5, 3, 44]\n",
    "encountered = set()\n",
    "\n",
    "duplicates = []\n",
    "\n",
    "for num in List:\n",
    "    \n",
    "    if num in encountered:\n",
    "        duplicates.append(num)\n",
    "    else:\n",
    "        encountered.add(num)\n",
    "\n",
    "print(\"Duplicate numbers in the list are:\", duplicates)"
   ]
  },
  {
   "cell_type": "code",
   "execution_count": 8,
   "metadata": {},
   "outputs": [
    {
     "name": "stdout",
     "output_type": "stream",
     "text": [
      "Reversed list: ['snack', 'crocodile', 'zebra', 'lion', 'tiger', 'cat']\n"
     ]
    }
   ],
   "source": [
    "List = [\"cat\", \"tiger\", \"lion\", \"zebra\", \"crocodile\", \"snack\"]\n",
    "\n",
    "reversed_list = []\n",
    "\n",
    "for i in range(len(List) - 1, -1, -1):\n",
    "   \n",
    "    reversed_list.append(List[i])\n",
    "\n",
    "print(\"Reversed list:\", reversed_list)"
   ]
  },
  {
   "cell_type": "markdown",
   "metadata": {},
   "source": [
    "# Day 2"
   ]
  },
  {
   "cell_type": "code",
   "execution_count": 9,
   "metadata": {},
   "outputs": [
    {
     "name": "stdout",
     "output_type": "stream",
     "text": [
      "xxxxx\n"
     ]
    }
   ],
   "source": [
    "#1\n",
    "def generate_n_chars(n, c):\n",
    "    \n",
    "    result = \"\"\n",
    "    for _ in range(n):\n",
    "        result += c\n",
    "    return result\n",
    "\n",
    "# Example usage:\n",
    "print(generate_n_chars(5, \"x\"))"
   ]
  },
  {
   "cell_type": "code",
   "execution_count": 10,
   "metadata": {},
   "outputs": [
    {
     "name": "stdout",
     "output_type": "stream",
     "text": [
      "20\n"
     ]
    }
   ],
   "source": [
    "#2\n",
    "def max_in_list(numbers):\n",
    "   \n",
    "    if not numbers:\n",
    "        return None  \n",
    "    \n",
    "    max_number = numbers[0]  \n",
    "    for num in numbers[1:]:  \n",
    "        if num > max_number:\n",
    "            max_number = num  \n",
    "    return max_number\n",
    "\n",
    "# Example usage:\n",
    "numbers_list = [10, 5, 8, 20, 15]\n",
    "print(max_in_list(numbers_list)) "
   ]
  },
  {
   "cell_type": "code",
   "execution_count": 9,
   "metadata": {},
   "outputs": [
    {
     "name": "stdout",
     "output_type": "stream",
     "text": [
      "[5, 6, 6, 4]\n"
     ]
    }
   ],
   "source": [
    "#3\n",
    "def word_lengths(words):\n",
    "   \n",
    "    return [len(word) for word in words]\n",
    "\n",
    "# Example:\n",
    "word_list = [\"apple\", \"banana\", \"orange\", \"kiwi\"]\n",
    "lengths = word_lengths(word_list)\n",
    "print(lengths)"
   ]
  },
  {
   "cell_type": "code",
   "execution_count": 10,
   "metadata": {},
   "outputs": [
    {
     "name": "stdout",
     "output_type": "stream",
     "text": [
      "6\n"
     ]
    }
   ],
   "source": [
    "#4\n",
    "def find_longest_word(words):\n",
    "    \n",
    "    if not words:\n",
    "        return 0  \n",
    "    \n",
    "    max_length = len(words[0])  \n",
    "    for word in words[1:]:  \n",
    "        max_length = max(max_length, len(word))  \n",
    "    return max_length\n",
    "\n",
    "\n",
    "word_list = [\"apple\", \"banana\", \"orange\", \"kiwi\"]\n",
    "print(find_longest_word(word_list))"
   ]
  },
  {
   "cell_type": "code",
   "execution_count": 13,
   "metadata": {},
   "outputs": [
    {
     "name": "stdout",
     "output_type": "stream",
     "text": [
      "6\n"
     ]
    }
   ],
   "source": [
    "\n",
    "def find_longest_word(words):\n",
    "    \n",
    "    if not words:\n",
    "        return 0  \n",
    "    \n",
    "    return max(map(lambda word: len(word), words))\n",
    "\n",
    "\n",
    "word_list = [\"apple\", \"banana\", \"orange\", \"kiwi\"]\n",
    "print(find_longest_word(word_list))"
   ]
  },
  {
   "cell_type": "code",
   "execution_count": 14,
   "metadata": {},
   "outputs": [
    {
     "name": "stdout",
     "output_type": "stream",
     "text": [
      "['banana', 'orange']\n"
     ]
    }
   ],
   "source": [
    "#5\n",
    "def filter_long_words(words, n):\n",
    "  \n",
    "    return list(filter(lambda word: len(word) > n, words))\n",
    "\n",
    "word_list = [\"apple\", \"banana\", \"orange\", \"kiwi\", \"grape\"]\n",
    "n = 5\n",
    "print(filter_long_words(word_list, n))"
   ]
  },
  {
   "cell_type": "code",
   "execution_count": 11,
   "metadata": {},
   "outputs": [
    {
     "name": "stdout",
     "output_type": "stream",
     "text": [
      "Go hang a salami I'm a lasagna hog.: True\n",
      "Was it a rat I saw?: True\n",
      "Step on no pets: True\n",
      "Sit on a potato pan, Otis: True\n",
      "Lisa Bonet ate no basil: True\n",
      "Satan, oscillate my metallic sonatas: True\n",
      "I roamed under it as a tired nude Maori: True\n",
      "Rise to vote sir: True\n",
      "Dammit, I'm mad!: True\n"
     ]
    }
   ],
   "source": [
    "#6\n",
    "import re\n",
    "\n",
    "def is_palindrome(phrase):\n",
    "    \"\"\"Check if a phrase is a palindrome, ignoring punctuation, capitalization, and spacing.\"\"\"\n",
    "    \n",
    "    cleaned_phrase = re.sub(r'[^\\w\\s]', '', phrase.lower())\n",
    "   \n",
    "    cleaned_phrase = cleaned_phrase.replace(' ', '')\n",
    "   \n",
    "    return cleaned_phrase == cleaned_phrase[::-1]\n",
    "\n",
    "\n",
    "phrases = [\n",
    "    \"Go hang a salami I'm a lasagna hog.\",\n",
    "    \"Was it a rat I saw?\",\n",
    "    \"Step on no pets\",\n",
    "    \"Sit on a potato pan, Otis\",\n",
    "    \"Lisa Bonet ate no basil\",\n",
    "    \"Satan, oscillate my metallic sonatas\",\n",
    "    \"I roamed under it as a tired nude Maori\",\n",
    "    \"Rise to vote sir\",\n",
    "    \"Dammit, I'm mad!\"\n",
    "]\n",
    "\n",
    "for phrase in phrases:\n",
    "    print(f\"{phrase}: {is_palindrome(phrase)}\")"
   ]
  },
  {
   "cell_type": "code",
   "execution_count": 17,
   "metadata": {},
   "outputs": [
    {
     "name": "stdout",
     "output_type": "stream",
     "text": [
      "True\n"
     ]
    }
   ],
   "source": [
    "#7\n",
    "import string\n",
    "\n",
    "def is_pangram(sentence):\n",
    "    \n",
    "    alphabet = set(string.ascii_lowercase) \n",
    "    sentence = sentence.lower()  # \n",
    "    letters = set(char for char in sentence if char.isalpha())\n",
    "    \n",
    "    return letters == alphabet\n",
    "\n",
    "\n",
    "sentence = \"The quick brown fox jumps over the lazy dog.\"\n",
    "print(is_pangram(sentence)) "
   ]
  },
  {
   "cell_type": "code",
   "execution_count": 18,
   "metadata": {},
   "outputs": [
    {
     "name": "stdout",
     "output_type": "stream",
     "text": [
      "['god', 'jul', 'och', 'gott', 'nytt', 'år']\n"
     ]
    }
   ],
   "source": [
    "#8\n",
    "def translate(words, lexicon):\n",
    "  \n",
    "    translated_words = [lexicon.get(word, word) for word in words]\n",
    "    return translated_words\n",
    "\n",
    "\n",
    "lexicon = {\n",
    "    \"merry\": \"god\",\n",
    "    \"christmas\": \"jul\",\n",
    "    \"and\": \"och\",\n",
    "    \"happy\": \"gott\",\n",
    "    \"new\": \"nytt\",\n",
    "    \"year\": \"år\"\n",
    "}\n",
    "\n",
    "\n",
    "english_words = [\"merry\", \"christmas\", \"and\", \"happy\", \"new\", \"year\"]\n",
    "swedish_translation = translate(english_words, lexicon)\n",
    "print(swedish_translation) "
   ]
  },
  {
   "cell_type": "code",
   "execution_count": 19,
   "metadata": {},
   "outputs": [
    {
     "name": "stdout",
     "output_type": "stream",
     "text": [
      "{'a': 7, 'b': 14, 'c': 3, 'd': 3}\n"
     ]
    }
   ],
   "source": [
    "#9\n",
    "def char_freq(string):\n",
    "    \n",
    "    freq_dict = {}\n",
    "    for char in string:\n",
    "        freq_dict[char] = freq_dict.get(char, 0) + 1\n",
    "    return freq_dict\n",
    "\n",
    "\n",
    "frequency = char_freq(\"abbabcbdbabdbdbabababcbcbab\")\n",
    "print(frequency)"
   ]
  },
  {
   "cell_type": "code",
   "execution_count": 12,
   "metadata": {},
   "outputs": [],
   "source": [
    "#10\n",
    "def add(*args):\n",
    " \n",
    "    return sum(args)\n",
    "\n",
    "def sub(*args):\n",
    "\n",
    "    result = args[0]\n",
    "    for num in args[1:]:\n",
    "        result -= num\n",
    "    return result\n",
    "\n",
    "def sort_values(*args):\n",
    "    \"\"\"Sort the values.\"\"\"\n",
    "    return sorted(args)\n",
    "\n",
    "def max_sort(*args):\n",
    "    \n",
    "    sorted_values = sorted(args)\n",
    "    return sorted_values[-1]\n",
    "\n",
    "# Internal subroutine\n",
    "def _confidential():\n",
    "    \"\"\"This subroutine is for internal use only.\"\"\"\n",
    "    print(\"This subroutine is for internal use only.\")\n",
    "\n"
   ]
  },
  {
   "cell_type": "code",
   "execution_count": 13,
   "metadata": {},
   "outputs": [
    {
     "ename": "AttributeError",
     "evalue": "module 'math' has no attribute 'add'",
     "output_type": "error",
     "traceback": [
      "\u001b[1;31m---------------------------------------------------------------------------\u001b[0m",
      "\u001b[1;31mAttributeError\u001b[0m                            Traceback (most recent call last)",
      "\u001b[1;32m<ipython-input-13-b5a227ecc767>\u001b[0m in \u001b[0;36m<module>\u001b[1;34m\u001b[0m\n\u001b[0;32m      8\u001b[0m \u001b[1;33m\u001b[0m\u001b[0m\n\u001b[0;32m      9\u001b[0m \u001b[1;33m\u001b[0m\u001b[0m\n\u001b[1;32m---> 10\u001b[1;33m \u001b[0mc\u001b[0m \u001b[1;33m=\u001b[0m \u001b[1;33m[\u001b[0m\u001b[0mmath\u001b[0m\u001b[1;33m.\u001b[0m\u001b[0madd\u001b[0m\u001b[1;33m(\u001b[0m\u001b[0mx\u001b[0m\u001b[1;33m,\u001b[0m \u001b[0my\u001b[0m\u001b[1;33m)\u001b[0m \u001b[1;32mfor\u001b[0m \u001b[0mx\u001b[0m\u001b[1;33m,\u001b[0m \u001b[0my\u001b[0m \u001b[1;32min\u001b[0m \u001b[0mzip\u001b[0m\u001b[1;33m(\u001b[0m\u001b[0ma\u001b[0m\u001b[1;33m,\u001b[0m \u001b[0mb\u001b[0m\u001b[1;33m)\u001b[0m\u001b[1;33m]\u001b[0m\u001b[1;33m\u001b[0m\u001b[1;33m\u001b[0m\u001b[0m\n\u001b[0m\u001b[0;32m     11\u001b[0m \u001b[0mprint\u001b[0m\u001b[1;33m(\u001b[0m\u001b[1;34m\"Addition of arrays a and b:\"\u001b[0m\u001b[1;33m,\u001b[0m \u001b[0mc\u001b[0m\u001b[1;33m)\u001b[0m\u001b[1;33m\u001b[0m\u001b[1;33m\u001b[0m\u001b[0m\n\u001b[0;32m     12\u001b[0m \u001b[1;33m\u001b[0m\u001b[0m\n",
      "\u001b[1;32m<ipython-input-13-b5a227ecc767>\u001b[0m in \u001b[0;36m<listcomp>\u001b[1;34m(.0)\u001b[0m\n\u001b[0;32m      8\u001b[0m \u001b[1;33m\u001b[0m\u001b[0m\n\u001b[0;32m      9\u001b[0m \u001b[1;33m\u001b[0m\u001b[0m\n\u001b[1;32m---> 10\u001b[1;33m \u001b[0mc\u001b[0m \u001b[1;33m=\u001b[0m \u001b[1;33m[\u001b[0m\u001b[0mmath\u001b[0m\u001b[1;33m.\u001b[0m\u001b[0madd\u001b[0m\u001b[1;33m(\u001b[0m\u001b[0mx\u001b[0m\u001b[1;33m,\u001b[0m \u001b[0my\u001b[0m\u001b[1;33m)\u001b[0m \u001b[1;32mfor\u001b[0m \u001b[0mx\u001b[0m\u001b[1;33m,\u001b[0m \u001b[0my\u001b[0m \u001b[1;32min\u001b[0m \u001b[0mzip\u001b[0m\u001b[1;33m(\u001b[0m\u001b[0ma\u001b[0m\u001b[1;33m,\u001b[0m \u001b[0mb\u001b[0m\u001b[1;33m)\u001b[0m\u001b[1;33m]\u001b[0m\u001b[1;33m\u001b[0m\u001b[1;33m\u001b[0m\u001b[0m\n\u001b[0m\u001b[0;32m     11\u001b[0m \u001b[0mprint\u001b[0m\u001b[1;33m(\u001b[0m\u001b[1;34m\"Addition of arrays a and b:\"\u001b[0m\u001b[1;33m,\u001b[0m \u001b[0mc\u001b[0m\u001b[1;33m)\u001b[0m\u001b[1;33m\u001b[0m\u001b[1;33m\u001b[0m\u001b[0m\n\u001b[0;32m     12\u001b[0m \u001b[1;33m\u001b[0m\u001b[0m\n",
      "\u001b[1;31mAttributeError\u001b[0m: module 'math' has no attribute 'add'"
     ]
    }
   ],
   "source": [
    "# main.py\n",
    "\n",
    "import math\n",
    "\n",
    "\n",
    "a = [1, 3, 5, 7, 9]\n",
    "b = [2, 4, 6, 8, 10]\n",
    "\n",
    "\n",
    "c = [math.add(x, y) for x, y in zip(a, b)]\n",
    "print(\"Addition of arrays a and b:\", c)\n",
    "\n",
    "\n",
    "d = [math.sub(x, y) for x, y in zip(a, b)]\n",
    "print(\"Subtraction of arrays a and b:\", d)\n",
    "\n",
    "\n",
    "min_value = min(c + d)\n",
    "max_value = max(c + d)\n",
    "print(\"Minimum value:\", min_value)\n",
    "print(\"Maximum value:\", max_value)\n",
    "\n",
    "\n",
    "sorted_result = math.sort_values(*c)  \n",
    "print(\"Sorted result:\", sorted_result)"
   ]
  },
  {
   "cell_type": "markdown",
   "metadata": {},
   "source": [
    "# Day 3"
   ]
  },
  {
   "cell_type": "code",
   "execution_count": 24,
   "metadata": {},
   "outputs": [
    {
     "name": "stdout",
     "output_type": "stream",
     "text": [
      "27/4/2024\n"
     ]
    }
   ],
   "source": [
    "#1\n",
    "class Date:\n",
    "    def __init__(self, day, month, year):\n",
    "        self.day = day\n",
    "        self.month = month\n",
    "        self.year = year\n",
    "    \n",
    "    def display_date(self):\n",
    "        return f\"{self.day}/{self.month}/{self.year}\"\n",
    "\n",
    "class UseDate:\n",
    "    def __init__(self):\n",
    "        self.date = None\n",
    "    \n",
    "    def set_date(self, day, month, year):\n",
    "        self.date = Date(day, month, year)\n",
    "    \n",
    "    def display_date(self):\n",
    "        if self.date:\n",
    "            return self.date.display_date()\n",
    "        else:\n",
    "            return \"Date is not set yet\"\n",
    "\n",
    "# Example\n",
    "use_date = UseDate()\n",
    "use_date.set_date(27, 4, 2024)\n",
    "print(use_date.display_date())"
   ]
  },
  {
   "cell_type": "code",
   "execution_count": 25,
   "metadata": {},
   "outputs": [
    {
     "name": "stdout",
     "output_type": "stream",
     "text": [
      "One of the files does not exist.\n"
     ]
    }
   ],
   "source": [
    "#2\n",
    "def copy_file(source_file, destination_file):\n",
    "    try:\n",
    "        with open(source_file, 'r') as source:\n",
    "            data = source.read()\n",
    "        \n",
    "        with open(destination_file, 'w') as destination:\n",
    "            destination.write(data)\n",
    "        \n",
    "        print(\"Data copied successfully.\")\n",
    "    except FileNotFoundError:\n",
    "        print(\"One of the files does not exist.\")\n",
    "    except Exception as e:\n",
    "        print(f\"An error occurred: {e}\")\n",
    "\n",
    "\n",
    "source_file = \"source.txt\"\n",
    "destination_file = \"destination.txt\"\n",
    "copy_file(source_file, destination_file)"
   ]
  },
  {
   "cell_type": "code",
   "execution_count": 26,
   "metadata": {},
   "outputs": [
    {
     "name": "stdout",
     "output_type": "stream",
     "text": [
      "Math library functions:\n",
      "1. Square root of 16: 4.0\n",
      "2. Factorial of 5: 120\n",
      "3. Absolute value of -10: 10.0\n",
      "4. Trigonometric sine of 45 degrees: 0.7071067811865476\n",
      "5. Exponential function e^2: 7.38905609893065\n",
      "\n",
      "Numpy library functions:\n",
      "1. Array: [1 2 3 4 5]\n",
      "2. Sum of array elements: 15\n",
      "3. Mean of array elements: 3.0\n",
      "4. Maximum value in the array: 5\n",
      "5. Transpose of a 2D array:\n",
      "[[1 3 5]\n",
      " [2 4 6]]\n"
     ]
    }
   ],
   "source": [
    "#3\n",
    "import math\n",
    "import numpy as np\n",
    "\n",
    "# Math library functions\n",
    "print(\"Math library functions:\")\n",
    "print(\"1. Square root of 16:\", math.sqrt(16))\n",
    "print(\"2. Factorial of 5:\", math.factorial(5))\n",
    "print(\"3. Absolute value of -10:\", math.fabs(-10))\n",
    "print(\"4. Trigonometric sine of 45 degrees:\", math.sin(math.radians(45)))\n",
    "print(\"5. Exponential function e^2:\", math.exp(2))\n",
    "print()\n",
    "\n",
    "# Numpy library functions\n",
    "print(\"Numpy library functions:\")\n",
    "array = np.array([1, 2, 3, 4, 5])\n",
    "print(\"1. Array:\", array)\n",
    "print(\"2. Sum of array elements:\", np.sum(array))\n",
    "print(\"3. Mean of array elements:\", np.mean(array))\n",
    "print(\"4. Maximum value in the array:\", np.max(array))\n",
    "print(\"5. Transpose of a 2D array:\")\n",
    "matrix = np.array([[1, 2], [3, 4], [5, 6]])\n",
    "print(np.transpose(matrix))"
   ]
  },
  {
   "cell_type": "code",
   "execution_count": 16,
   "metadata": {},
   "outputs": [
    {
     "name": "stdout",
     "output_type": "stream",
     "text": [
      "Enter your name: Manisha Rao\n",
      "Enter your ID number: 45298\n",
      "Enter your location: Hyderabad\n",
      "Name: Manisha Rao, ID: 45298, Location: Hyderabad\n"
     ]
    }
   ],
   "source": [
    "#4\n",
    "def main():\n",
    "    name = input(\"Enter your name: \")\n",
    "    id_number = input(\"Enter your ID number: \")\n",
    "    location = input(\"Enter your location: \")\n",
    "    \n",
    "    \n",
    "    print(\"Name: {}, ID: {}, Location: {}\".format(name, id_number, location))\n",
    "\n",
    "if __name__ == \"__main__\":\n",
    "    main()"
   ]
  },
  {
   "cell_type": "code",
   "execution_count": 29,
   "metadata": {},
   "outputs": [
    {
     "name": "stdout",
     "output_type": "stream",
     "text": [
      "Output: 172.65.45.234\n"
     ]
    }
   ],
   "source": [
    "#5\n",
    "def swap_ip_octets(ip):\n",
    "   \n",
    "    octets = ip.split('.')\n",
    "\n",
    "   \n",
    "    octets[-2], octets[-1] = octets[-1], octets[-2]\n",
    "\n",
    "   \n",
    "    swapped_ip = '.'.join(octets)\n",
    "\n",
    "    return swapped_ip\n",
    "\n",
    "\n",
    "input_ip = \"172.65.234.45\"\n",
    "output_ip = swap_ip_octets(input_ip)\n",
    "print(\"Output:\", output_ip)"
   ]
  },
  {
   "cell_type": "code",
   "execution_count": 30,
   "metadata": {},
   "outputs": [
    {
     "name": "stdout",
     "output_type": "stream",
     "text": [
      "['snack', 'crocodile', 'zebra', 'lion', 'tiger', 'cat']\n"
     ]
    }
   ],
   "source": [
    "#6\n",
    "List = [\"cat\", \"tiger\", \"lion\", \"zebra\", \"crocodile\", \"snack\"]\n",
    "\n",
    "reversed_list = []\n",
    "for i in range(len(List)-1, -1, -1):\n",
    "    reversed_list.append(List[i])\n",
    "\n",
    "print(reversed_list)"
   ]
  },
  {
   "cell_type": "code",
   "execution_count": 31,
   "metadata": {},
   "outputs": [
    {
     "name": "stdout",
     "output_type": "stream",
     "text": [
      "Enter employee name and rating (e.g., Raja : 6.5): John : 3.5\n",
      "Employee: John\n",
      "Performance Rating: 3.5\n"
     ]
    }
   ],
   "source": [
    "#7\n",
    "while True:\n",
    "    try:\n",
    "        input_str = input(\"Enter employee name and rating (e.g., Raja : 6.5): \")\n",
    "        if not input_str.strip():\n",
    "            raise ValueError(\"All inputs are empty.\")\n",
    "        \n",
    "        name, rating = input_str.split(':')\n",
    "        name = name.strip()\n",
    "        rating = float(rating.strip())\n",
    "\n",
    "        if not name:\n",
    "            raise ValueError(\"Name is NULL.\")\n",
    "        if not rating:\n",
    "            raise ValueError(\"Rating is NULL.\")\n",
    "        if not isinstance(rating, (int, float)):\n",
    "            raise ValueError(\"Rating should be a number.\")\n",
    "        if not (1 <= rating <= 10):\n",
    "            raise ValueError(\"Rating should be between 1 and 10.\")\n",
    "        \n",
    "        print(\"Employee:\", name)\n",
    "        print(\"Performance Rating:\", rating)\n",
    "        break\n",
    "        \n",
    "    except ValueError as e:\n",
    "        print(\"Invalid input:\", e)"
   ]
  },
  {
   "cell_type": "code",
   "execution_count": 33,
   "metadata": {},
   "outputs": [
    {
     "name": "stdout",
     "output_type": "stream",
     "text": [
      "Even numbers: [4, 18, 2, 6, 8, 18, 44]\n"
     ]
    }
   ],
   "source": [
    "#8\n",
    "List = [5, 21, 4, 18, 2, 55, 6, 8, 3, 18, 5, 3, 44]\n",
    "\n",
    "even_numbers = [num for num in List if num % 2 == 0]\n",
    "\n",
    "print(\"Even numbers:\", even_numbers)"
   ]
  },
  {
   "cell_type": "code",
   "execution_count": 34,
   "metadata": {},
   "outputs": [],
   "source": [
    "#9\n",
    "def rectangle_area(length, width):\n",
    "    return length * width\n",
    "\n",
    "def square_area(side_length):\n",
    "    return side_length ** 2"
   ]
  },
  {
   "cell_type": "code",
   "execution_count": 35,
   "metadata": {},
   "outputs": [],
   "source": [
    "import math\n",
    "\n",
    "def circle_area(radius):\n",
    "    return math.pi * radius ** 2\n",
    "\n",
    "def triangle_area(base, height):\n",
    "    return (base * height) / 2"
   ]
  },
  {
   "cell_type": "code",
   "execution_count": 36,
   "metadata": {},
   "outputs": [
    {
     "ename": "ModuleNotFoundError",
     "evalue": "No module named 'geometry_1'",
     "output_type": "error",
     "traceback": [
      "\u001b[1;31m---------------------------------------------------------------------------\u001b[0m",
      "\u001b[1;31mModuleNotFoundError\u001b[0m                       Traceback (most recent call last)",
      "\u001b[1;32m<ipython-input-36-4a330a637af8>\u001b[0m in \u001b[0;36m<module>\u001b[1;34m\u001b[0m\n\u001b[1;32m----> 1\u001b[1;33m \u001b[1;32mfrom\u001b[0m \u001b[0mgeometry_1\u001b[0m \u001b[1;32mimport\u001b[0m \u001b[0mrectangle_area\u001b[0m\u001b[1;33m,\u001b[0m \u001b[0msquare_area\u001b[0m\u001b[1;33m\u001b[0m\u001b[1;33m\u001b[0m\u001b[0m\n\u001b[0m\u001b[0;32m      2\u001b[0m \u001b[1;32mfrom\u001b[0m \u001b[0mgeometry_2\u001b[0m \u001b[1;32mimport\u001b[0m \u001b[0mcircle_area\u001b[0m\u001b[1;33m,\u001b[0m \u001b[0mtriangle_area\u001b[0m\u001b[1;33m\u001b[0m\u001b[1;33m\u001b[0m\u001b[0m\n\u001b[0;32m      3\u001b[0m \u001b[1;33m\u001b[0m\u001b[0m\n\u001b[0;32m      4\u001b[0m \u001b[1;31m# Finding the area of different shapes\u001b[0m\u001b[1;33m\u001b[0m\u001b[1;33m\u001b[0m\u001b[1;33m\u001b[0m\u001b[0m\n\u001b[0;32m      5\u001b[0m \u001b[0mlength\u001b[0m \u001b[1;33m=\u001b[0m \u001b[1;36m5\u001b[0m\u001b[1;33m\u001b[0m\u001b[1;33m\u001b[0m\u001b[0m\n",
      "\u001b[1;31mModuleNotFoundError\u001b[0m: No module named 'geometry_1'"
     ]
    }
   ],
   "source": [
    "from geometry_1 import rectangle_area, square_area\n",
    "from geometry_2 import circle_area, triangle_area\n",
    "\n",
    "# Finding the area of different shapes\n",
    "length = 5\n",
    "width = 4\n",
    "print(\"Area of Rectangle:\", rectangle_area(length, width))\n",
    "\n",
    "side_length = 5\n",
    "print(\"Area of Square:\", square_area(side_length))\n",
    "\n",
    "radius = 3\n",
    "print(\"Area of Circle:\", circle_area(radius))\n",
    "\n",
    "base = 4\n",
    "height = 6\n",
    "print(\"Area of Triangle:\", triangle_area(base, height))"
   ]
  },
  {
   "cell_type": "code",
   "execution_count": 37,
   "metadata": {},
   "outputs": [
    {
     "name": "stdout",
     "output_type": "stream",
     "text": [
      "Sorted list: [2, 3, 4, 6, 8, 9, 9, 12, 34]\n"
     ]
    }
   ],
   "source": [
    "#10\n",
    "List = [6, 2, 8, 9, 34, 12, 4, 3, 9]\n",
    "\n",
    "# Bubble sort algorithm\n",
    "n = len(List)\n",
    "for i in range(n):\n",
    "    for j in range(0, n-i-1):\n",
    "        if List[j] > List[j+1]:\n",
    "            List[j], List[j+1] = List[j+1], List[j]\n",
    "\n",
    "print(\"Sorted list:\", List)"
   ]
  },
  {
   "cell_type": "code",
   "execution_count": 38,
   "metadata": {},
   "outputs": [
    {
     "ename": "FileNotFoundError",
     "evalue": "[Errno 2] No such file or directory: 'sample_file.txt'",
     "output_type": "error",
     "traceback": [
      "\u001b[1;31m---------------------------------------------------------------------------\u001b[0m",
      "\u001b[1;31mFileNotFoundError\u001b[0m                         Traceback (most recent call last)",
      "\u001b[1;32m<ipython-input-38-cec99fd876c1>\u001b[0m in \u001b[0;36m<module>\u001b[1;34m\u001b[0m\n\u001b[0;32m      5\u001b[0m \u001b[1;31m# Read lines from the file and identify lines containing website addresses\u001b[0m\u001b[1;33m\u001b[0m\u001b[1;33m\u001b[0m\u001b[1;33m\u001b[0m\u001b[0m\n\u001b[0;32m      6\u001b[0m \u001b[0mwebsite_lines\u001b[0m \u001b[1;33m=\u001b[0m \u001b[1;33m[\u001b[0m\u001b[1;33m]\u001b[0m\u001b[1;33m\u001b[0m\u001b[1;33m\u001b[0m\u001b[0m\n\u001b[1;32m----> 7\u001b[1;33m \u001b[1;32mwith\u001b[0m \u001b[0mopen\u001b[0m\u001b[1;33m(\u001b[0m\u001b[1;34m'sample_file.txt'\u001b[0m\u001b[1;33m,\u001b[0m \u001b[1;34m'r'\u001b[0m\u001b[1;33m)\u001b[0m \u001b[1;32mas\u001b[0m \u001b[0mfile\u001b[0m\u001b[1;33m:\u001b[0m\u001b[1;33m\u001b[0m\u001b[1;33m\u001b[0m\u001b[0m\n\u001b[0m\u001b[0;32m      8\u001b[0m     \u001b[1;32mfor\u001b[0m \u001b[0mline\u001b[0m \u001b[1;32min\u001b[0m \u001b[0mfile\u001b[0m\u001b[1;33m:\u001b[0m\u001b[1;33m\u001b[0m\u001b[1;33m\u001b[0m\u001b[0m\n\u001b[0;32m      9\u001b[0m         \u001b[1;32mif\u001b[0m \u001b[0mre\u001b[0m\u001b[1;33m.\u001b[0m\u001b[0msearch\u001b[0m\u001b[1;33m(\u001b[0m\u001b[1;34mr'(?i)\\b(https?://|www\\.)\\S+\\b'\u001b[0m\u001b[1;33m,\u001b[0m \u001b[0mline\u001b[0m\u001b[1;33m)\u001b[0m\u001b[1;33m:\u001b[0m\u001b[1;33m\u001b[0m\u001b[1;33m\u001b[0m\u001b[0m\n",
      "\u001b[1;31mFileNotFoundError\u001b[0m: [Errno 2] No such file or directory: 'sample_file.txt'"
     ]
    }
   ],
   "source": [
    "#11\n",
    "import os\n",
    "import re\n",
    "\n",
    "# Read lines from the file and identify lines containing website addresses\n",
    "website_lines = []\n",
    "with open('sample_file.txt', 'r') as file:\n",
    "    for line in file:\n",
    "        if re.search(r'(?i)\\b(https?://|www\\.)\\S+\\b', line):\n",
    "            website_lines.append(line)\n",
    "\n",
    "# Create a new directory\n",
    "new_directory = 'output_directory'\n",
    "os.makedirs(new_directory, exist_ok=True)\n",
    "\n",
    "# Create a new file in the new directory and save website lines to it\n",
    "new_file_path = os.path.join(new_directory, 'website_lines.txt')\n",
    "with open(new_file_path, 'w') as new_file:\n",
    "    for line in website_lines:\n",
    "        new_file.write(line)\n",
    "\n",
    "# Print the content of the new file\n",
    "print(\"Content of the new file:\")\n",
    "with open(new_file_path, 'r') as new_file:\n",
    "    print(new_file.read())\n",
    "\n",
    "# Delete the old file\n",
    "os.remove('sample_file.txt')\n",
    "print(\"Old file deleted successfully.\")"
   ]
  },
  {
   "cell_type": "code",
   "execution_count": 39,
   "metadata": {},
   "outputs": [
    {
     "name": "stdout",
     "output_type": "stream",
     "text": [
      "Enter a number to generate Fibonacci series: 87\n",
      "Fibonacci series up to 87 is: [0, 1, 1, 2, 3, 5, 8, 13, 21, 34, 55]\n"
     ]
    }
   ],
   "source": [
    "#12\n",
    "def fibonacci_series(n):\n",
    "    fib_series = [0, 1]\n",
    "    while fib_series[-1] + fib_series[-2] <= n:\n",
    "        fib_series.append(fib_series[-1] + fib_series[-2])\n",
    "    return fib_series\n",
    "\n",
    "# Input from user\n",
    "try:\n",
    "    num = int(input(\"Enter a number to generate Fibonacci series: \"))\n",
    "    if num < 0:\n",
    "        raise ValueError(\"Please enter a positive number.\")\n",
    "    \n",
    "    result = fibonacci_series(num)\n",
    "    print(\"Fibonacci series up to\", num, \"is:\", result)\n",
    "\n",
    "except ValueError as e:\n",
    "    print(\"Error:\", e)"
   ]
  },
  {
   "cell_type": "code",
   "execution_count": 17,
   "metadata": {},
   "outputs": [
    {
     "name": "stdout",
     "output_type": "stream",
     "text": [
      "Enter the number of students: 2\n",
      "Enter the name of student 1: Joe\n",
      "Enter subject 1 name: eng\n",
      "Enter eng mark for Joe: 67\n",
      "Enter subject 2 name: maths\n",
      "Enter maths mark for Joe: 56\n",
      "Enter subject 3 name: hindi\n",
      "Enter hindi mark for Joe: 90\n",
      "Enter subject 4 name: phy\n",
      "Enter phy mark for Joe: 87\n",
      "Enter subject 5 name: chem\n",
      "Enter chem mark for Joe: 45\n",
      "Enter the name of student 2: Michelle\n",
      "Enter subject 1 name: eng\n",
      "Enter eng mark for Michelle: 67\n",
      "Enter subject 2 name: hindi\n",
      "Enter hindi mark for Michelle: 56\n",
      "Enter subject 3 name: maths\n",
      "Enter maths mark for Michelle: 89\n",
      "Enter subject 4 name: phy\n",
      "Enter phy mark for Michelle: 65\n",
      "Enter subject 5 name: chem\n",
      "Enter chem mark for Michelle: 85\n",
      "\n",
      "Pass students:\n",
      "Joe: Total marks = 345\n",
      "Michelle: Total marks = 362\n"
     ]
    }
   ],
   "source": [
    "#13\n",
    "class Student:\n",
    "    def __init__(self, name):\n",
    "        self.name = name\n",
    "        self.subject_marks = []\n",
    "\n",
    "    def add_subject_mark(self, subject, mark):\n",
    "        self.subject_marks.append((subject, mark))\n",
    "\n",
    "    def calculate_total_marks(self):\n",
    "        total_marks = sum(mark for _, mark in self.subject_marks)\n",
    "        return total_marks\n",
    "\n",
    "    def is_pass(self):\n",
    "        total_marks = self.calculate_total_marks()\n",
    "        pass_percentage = 50\n",
    "        return (total_marks / len(self.subject_marks)) >= pass_percentage\n",
    "\n",
    "students = []\n",
    "\n",
    "\n",
    "num_students = int(input(\"Enter the number of students: \"))\n",
    "for i in range(1, num_students + 1):\n",
    "    name = input(f\"Enter the name of student {i}: \")\n",
    "    student = Student(name)\n",
    "\n",
    "    \n",
    "    for j in range(1, 6):\n",
    "        subject = input(f\"Enter subject {j} name: \")\n",
    "        mark = int(input(f\"Enter {subject} mark for {name}: \"))\n",
    "        student.add_subject_mark(subject, mark)\n",
    "\n",
    "    \n",
    "    if student.is_pass():\n",
    "        students.append(student)\n",
    "    else:\n",
    "        print(f\"{name} failed the exam. Removing from class.\")\n",
    "\n",
    "\n",
    "print(\"\\nPass students:\")\n",
    "for student in students:\n",
    "    total_marks = student.calculate_total_marks()\n",
    "    print(f\"{student.name}: Total marks = {total_marks}\")"
   ]
  },
  {
   "cell_type": "code",
   "execution_count": 3,
   "metadata": {},
   "outputs": [
    {
     "name": "stdout",
     "output_type": "stream",
     "text": [
      "Enter employee name and rating (e.g., Raja : 6.5): John : 4.5\n",
      "Employee: John\n",
      "Performance Rating: 4.5\n"
     ]
    }
   ],
   "source": [
    "#14\n",
    "while True:\n",
    "    try:\n",
    "        input_str = input(\"Enter employee name and rating (e.g., Raja : 6.5): \")\n",
    "        if not input_str.strip():\n",
    "            raise ValueError(\"All inputs are empty.\")\n",
    "        \n",
    "        name, rating = input_str.split(':')\n",
    "        name = name.strip()\n",
    "        rating = float(rating.strip())\n",
    "\n",
    "        if not name:\n",
    "            raise ValueError(\"Name is NULL.\")\n",
    "        if not rating:\n",
    "            raise ValueError(\"Rating is NULL.\")\n",
    "        if not isinstance(rating, (int, float)):\n",
    "            raise ValueError(\"Rating should be a number.\")\n",
    "        if rating < 1 or rating > 10:\n",
    "            raise ValueError(\"Rating should be between 1 and 10.\")\n",
    "        \n",
    "        print(\"Employee:\", name)\n",
    "        print(\"Performance Rating:\", rating)\n",
    "        break\n",
    "        \n",
    "    except ValueError as e:\n",
    "        print(\"Invalid input:\", e)\n"
   ]
  },
  {
   "cell_type": "code",
   "execution_count": 4,
   "metadata": {},
   "outputs": [
    {
     "ename": "FileNotFoundError",
     "evalue": "[Errno 2] No such file or directory: 'input.txt'",
     "output_type": "error",
     "traceback": [
      "\u001b[1;31m---------------------------------------------------------------------------\u001b[0m",
      "\u001b[1;31mFileNotFoundError\u001b[0m                         Traceback (most recent call last)",
      "\u001b[1;32m<ipython-input-4-221387661af8>\u001b[0m in \u001b[0;36m<module>\u001b[1;34m\u001b[0m\n\u001b[0;32m     61\u001b[0m \u001b[1;33m\u001b[0m\u001b[0m\n\u001b[0;32m     62\u001b[0m \u001b[1;32mif\u001b[0m \u001b[0m__name__\u001b[0m \u001b[1;33m==\u001b[0m \u001b[1;34m\"__main__\"\u001b[0m\u001b[1;33m:\u001b[0m\u001b[1;33m\u001b[0m\u001b[1;33m\u001b[0m\u001b[0m\n\u001b[1;32m---> 63\u001b[1;33m     \u001b[0mmain\u001b[0m\u001b[1;33m(\u001b[0m\u001b[1;33m)\u001b[0m\u001b[1;33m\u001b[0m\u001b[1;33m\u001b[0m\u001b[0m\n\u001b[0m",
      "\u001b[1;32m<ipython-input-4-221387661af8>\u001b[0m in \u001b[0;36mmain\u001b[1;34m()\u001b[0m\n\u001b[0;32m     45\u001b[0m \u001b[1;33m\u001b[0m\u001b[0m\n\u001b[0;32m     46\u001b[0m     \u001b[1;31m# Read lines containing website addresses from the input file\u001b[0m\u001b[1;33m\u001b[0m\u001b[1;33m\u001b[0m\u001b[1;33m\u001b[0m\u001b[0m\n\u001b[1;32m---> 47\u001b[1;33m     \u001b[0mwebsite_lines\u001b[0m \u001b[1;33m=\u001b[0m \u001b[0mread_file_and_find_websites\u001b[0m\u001b[1;33m(\u001b[0m\u001b[0minput_file\u001b[0m\u001b[1;33m)\u001b[0m\u001b[1;33m\u001b[0m\u001b[1;33m\u001b[0m\u001b[0m\n\u001b[0m\u001b[0;32m     48\u001b[0m \u001b[1;33m\u001b[0m\u001b[0m\n\u001b[0;32m     49\u001b[0m     \u001b[1;31m# Create the output directory\u001b[0m\u001b[1;33m\u001b[0m\u001b[1;33m\u001b[0m\u001b[1;33m\u001b[0m\u001b[0m\n",
      "\u001b[1;32m<ipython-input-4-221387661af8>\u001b[0m in \u001b[0;36mread_file_and_find_websites\u001b[1;34m(file_path)\u001b[0m\n\u001b[0;32m     11\u001b[0m \u001b[1;32mdef\u001b[0m \u001b[0mread_file_and_find_websites\u001b[0m\u001b[1;33m(\u001b[0m\u001b[0mfile_path\u001b[0m\u001b[1;33m)\u001b[0m\u001b[1;33m:\u001b[0m\u001b[1;33m\u001b[0m\u001b[1;33m\u001b[0m\u001b[0m\n\u001b[0;32m     12\u001b[0m     \u001b[0mwebsite_lines\u001b[0m \u001b[1;33m=\u001b[0m \u001b[1;33m[\u001b[0m\u001b[1;33m]\u001b[0m\u001b[1;33m\u001b[0m\u001b[1;33m\u001b[0m\u001b[0m\n\u001b[1;32m---> 13\u001b[1;33m     \u001b[1;32mwith\u001b[0m \u001b[0mopen\u001b[0m\u001b[1;33m(\u001b[0m\u001b[0mfile_path\u001b[0m\u001b[1;33m,\u001b[0m \u001b[1;34m'r'\u001b[0m\u001b[1;33m)\u001b[0m \u001b[1;32mas\u001b[0m \u001b[0mfile\u001b[0m\u001b[1;33m:\u001b[0m\u001b[1;33m\u001b[0m\u001b[1;33m\u001b[0m\u001b[0m\n\u001b[0m\u001b[0;32m     14\u001b[0m         \u001b[1;32mfor\u001b[0m \u001b[0mline\u001b[0m \u001b[1;32min\u001b[0m \u001b[0mfile\u001b[0m\u001b[1;33m:\u001b[0m\u001b[1;33m\u001b[0m\u001b[1;33m\u001b[0m\u001b[0m\n\u001b[0;32m     15\u001b[0m             \u001b[1;32mif\u001b[0m \u001b[0mfind_website_address\u001b[0m\u001b[1;33m(\u001b[0m\u001b[0mline\u001b[0m\u001b[1;33m)\u001b[0m\u001b[1;33m:\u001b[0m\u001b[1;33m\u001b[0m\u001b[1;33m\u001b[0m\u001b[0m\n",
      "\u001b[1;31mFileNotFoundError\u001b[0m: [Errno 2] No such file or directory: 'input.txt'"
     ]
    }
   ],
   "source": [
    "#15\n",
    "import os\n",
    "import re\n",
    "\n",
    "\n",
    "def find_website_address(line):\n",
    "    pattern = r'(https?://(?:www\\.)?[\\w\\.-]+\\.\\w+/?[\\w\\.-]*)'\n",
    "    return re.findall(pattern, line)\n",
    "\n",
    "\n",
    "def read_file_and_find_websites(file_path):\n",
    "    website_lines = []\n",
    "    with open(file_path, 'r') as file:\n",
    "        for line in file:\n",
    "            if find_website_address(line):\n",
    "                website_lines.append(line)\n",
    "    return website_lines\n",
    "\n",
    "\n",
    "def create_directory(directory):\n",
    "    if not os.path.exists(directory):\n",
    "        os.makedirs(directory)\n",
    "\n",
    "\n",
    "def write_website_lines_to_file(lines, new_file_path):\n",
    "    with open(new_file_path, 'w') as new_file:\n",
    "        for line in lines:\n",
    "            new_file.write(line)\n",
    "\n",
    "\n",
    "def print_file_content(file_path):\n",
    "    with open(file_path, 'r') as file:\n",
    "        print(file.read())\n",
    "\n",
    "# Delete a file\n",
    "def delete_file(file_path):\n",
    "    if os.path.exists(file_path):\n",
    "        os.remove(file_path)\n",
    "\n",
    "# Main function\n",
    "def main():\n",
    "    input_file = 'input.txt'\n",
    "    output_directory = 'output'\n",
    "    output_file = os.path.join(output_directory, 'output.txt')\n",
    "\n",
    "    # Read lines containing website addresses from the input file\n",
    "    website_lines = read_file_and_find_websites(input_file)\n",
    "\n",
    "    # Create the output directory\n",
    "    create_directory(output_directory)\n",
    "\n",
    "    # Write the website lines to the output file\n",
    "    write_website_lines_to_file(website_lines, output_file)\n",
    "\n",
    "    # Print the content of the output file\n",
    "    print(\"Content of the new file:\")\n",
    "    print_file_content(output_file)\n",
    "\n",
    "    # Delete the input file\n",
    "    delete_file(input_file)\n",
    "\n",
    "if __name__ == \"__main__\":\n",
    "    main()"
   ]
  },
  {
   "cell_type": "code",
   "execution_count": 5,
   "metadata": {},
   "outputs": [
    {
     "name": "stdout",
     "output_type": "stream",
     "text": [
      "Folder size is already within the limit.\n"
     ]
    }
   ],
   "source": [
    "#16\n",
    "import os\n",
    "\n",
    "def get_folder_size(folder):\n",
    "    total_size = 0\n",
    "    for dirpath, dirnames, filenames in os.walk(folder):\n",
    "        for filename in filenames:\n",
    "            filepath = os.path.join(dirpath, filename)\n",
    "            total_size += os.path.getsize(filepath)\n",
    "    return total_size\n",
    "\n",
    "def delete_files_to_fit(folder, max_size):\n",
    "    while get_folder_size(folder) > max_size:\n",
    "        # Get list of files in folder\n",
    "        files = [(file, os.path.getsize(os.path.join(folder, file))) for file in os.listdir(folder)]\n",
    "        # Sort files by size in descending order\n",
    "        files.sort(key=lambda x: x[1], reverse=True)\n",
    "        # Delete the largest file\n",
    "        os.remove(os.path.join(folder, files[0][0]))\n",
    "        print(f\"Deleted file: {files[0][0]}\")\n",
    "\n",
    "# Specify the folder path\n",
    "folder_path = '/path/to/your/folder'\n",
    "# Specify the maximum size in bytes (2MB = 2 * 1024 * 1024 bytes)\n",
    "max_folder_size = 2 * 1024 * 1024\n",
    "\n",
    "# Check if the folder size exceeds the maximum size\n",
    "if get_folder_size(folder_path) > max_folder_size:\n",
    "    delete_files_to_fit(folder_path, max_folder_size)\n",
    "    print(\"Folder size reduced successfully!\")\n",
    "else:\n",
    "    print(\"Folder size is already within the limit.\")\n"
   ]
  },
  {
   "cell_type": "code",
   "execution_count": 6,
   "metadata": {},
   "outputs": [
    {
     "name": "stdout",
     "output_type": "stream",
     "text": [
      "Enter the mark (0-100): 112\n",
      "Mark must be in the range of 0 to 100\n",
      "Enter the mark (0-100): 34\n",
      "Mark entered: 34\n"
     ]
    }
   ],
   "source": [
    "#17\n",
    "def get_mark():\n",
    "    while True:\n",
    "        try:\n",
    "            mark = int(input(\"Enter the mark (0-100): \"))\n",
    "            assert 0 <= mark <= 100, \"Mark must be in the range of 0 to 100\"\n",
    "            return mark\n",
    "        except ValueError:\n",
    "            print(\"Please enter a valid integer.\")\n",
    "        except AssertionError as e:\n",
    "            print(e)\n",
    "\n",
    "\n",
    "mark = get_mark()\n",
    "print(\"Mark entered:\", mark)\n"
   ]
  },
  {
   "cell_type": "code",
   "execution_count": 18,
   "metadata": {},
   "outputs": [
    {
     "name": "stdout",
     "output_type": "stream",
     "text": [
      "Enter the mark (0-100): 780\n",
      "Mark must be in the range of 0 to 100\n",
      "Enter the mark (0-100): 54\n",
      "Mark entered: 54\n"
     ]
    }
   ],
   "source": [
    "#18\n",
    "import logging\n",
    "\n",
    "\n",
    "logging.basicConfig(filename='user_data.log', level=logging.INFO, format='%(asctime)s - %(message)s')\n",
    "\n",
    "def get_mark():\n",
    "    while True:\n",
    "        try:\n",
    "            mark = int(input(\"Enter the mark (0-100): \"))\n",
    "            assert 0 <= mark <= 100, \"Mark must be in the range of 0 to 100\"\n",
    "            return mark\n",
    "        except ValueError:\n",
    "            print(\"Please enter a valid integer.\")\n",
    "        except AssertionError as e:\n",
    "            print(e)\n",
    "            # Log invalid mark\n",
    "            logging.warning(\"Invalid mark entered by user: %s\", e)\n",
    "\n",
    "\n",
    "mark = get_mark()\n",
    "print(\"Mark entered:\", mark)\n",
    "\n",
    "\n",
    "logging.info(\"Valid mark entered by user: %s\", mark)\n"
   ]
  },
  {
   "cell_type": "markdown",
   "metadata": {},
   "source": [
    "# Day 4"
   ]
  },
  {
   "cell_type": "code",
   "execution_count": 8,
   "metadata": {},
   "outputs": [
    {
     "name": "stdout",
     "output_type": "stream",
     "text": [
      "[69.8, 73.4, 64.4, 71.6, 66.2, 93.2, 75.2, 95.0]\n"
     ]
    }
   ],
   "source": [
    "#1\n",
    "# List of temperatures in Celsius\n",
    "amount = [21, 23, 18, 22, 19, 34, 24, 35]\n",
    "\n",
    "fahrenheit = list(map(lambda c: (c * 9/5) + 32, amount))\n",
    "\n",
    "print(fahrenheit)\n"
   ]
  },
  {
   "cell_type": "code",
   "execution_count": 9,
   "metadata": {},
   "outputs": [
    {
     "name": "stdout",
     "output_type": "stream",
     "text": [
      "[25, 28, 26, 27, 31, 28, 29, 30, 34, 32, 33, 35, 32, 37, 36, 40, 38, 39]\n"
     ]
    }
   ],
   "source": [
    "#2\n",
    "numbers = [25, 28, 26, 4000, 27, 31, 5, 28, 29, 30, 34, 8, 32, 33, 35, 32, 37, 36, 40, 38, 39, 95]\n",
    "\n",
    "# Remove out-of-sequence numbers\n",
    "filtered_numbers = [num for num in numbers if 25 <= num <= 40]\n",
    "\n",
    "print(filtered_numbers)"
   ]
  },
  {
   "cell_type": "code",
   "execution_count": 10,
   "metadata": {},
   "outputs": [
    {
     "name": "stdout",
     "output_type": "stream",
     "text": [
      "[3, 5, 2, 6, 8, 18, 44, 21, 4]\n"
     ]
    }
   ],
   "source": [
    "#3\n",
    "List = [3, 5, 2, 6, 8, 3, 18, 5, 3, 44, 21, 4, 18, 2]\n",
    "\n",
    "unique_list = []\n",
    "\n",
    "for num in List:\n",
    "    \n",
    "    if num not in unique_list:\n",
    "        # Add the element to the unique_list\n",
    "        unique_list.append(num)\n",
    "\n",
    "print(unique_list)"
   ]
  },
  {
   "cell_type": "code",
   "execution_count": 11,
   "metadata": {},
   "outputs": [
    {
     "name": "stdout",
     "output_type": "stream",
     "text": [
      "[3, 5, 2, 6, 8, 18, 44, 21, 4]\n"
     ]
    }
   ],
   "source": [
    "#4\n",
    "# Original list\n",
    "List = [3, 5, 2, 6, 8, 3, 18, 5, 3, 44, 21, 4, 18, 2]\n",
    "\n",
    "unique_list = []\n",
    "\n",
    "\n",
    "for num in List:\n",
    "    found = False\n",
    "    \n",
    "    for unique_num in unique_list:\n",
    "        if num == unique_num:\n",
    "            found = True\n",
    "            break\n",
    " \n",
    "    if not found:\n",
    "        unique_list.append(num)\n",
    "\n",
    "print(unique_list)\n"
   ]
  },
  {
   "cell_type": "code",
   "execution_count": 13,
   "metadata": {},
   "outputs": [
    {
     "name": "stdout",
     "output_type": "stream",
     "text": [
      "Enter a string: defied\n",
      "The string is not a palindrome.\n"
     ]
    }
   ],
   "source": [
    "#5\n",
    "def is_palindrome(string):\n",
    "    \n",
    "    string = string.lower()\n",
    "   \n",
    "    string = string.replace(\" \", \"\")\n",
    "    \n",
    "  \n",
    "    if string == string[::-1]:\n",
    "        return True\n",
    "    else:\n",
    "        return False\n",
    "\n",
    "# Test the function\n",
    "input_string = input(\"Enter a string: \")\n",
    "if is_palindrome(input_string):\n",
    "    print(\"The string is a palindrome.\")\n",
    "else:\n",
    "    print(\"The string is not a palindrome.\")\n"
   ]
  },
  {
   "cell_type": "code",
   "execution_count": 19,
   "metadata": {},
   "outputs": [
    {
     "name": "stdout",
     "output_type": "stream",
     "text": [
      "Feb 23 07:34:56 3C-21-5A-14-81-0A router1 snmpd[359]: %DAEMON-3- SNMPD_TRAP_WARM_START: trap_generate_warm: SNMP trap: warm start Feb 23 07:38:19 router1 snmpd[359]: %DAEMON-2-SNMPD_TRAP_COLD_START:  trap_generate_cold: SNMP trap: cold start\n"
     ]
    }
   ],
   "source": [
    "#6\n",
    "import re\n",
    "\n",
    "# Given multiline string\n",
    "multiline_string = \"\"\"\n",
    "%DAEMON-3-SNMPD_TRAP_WARM_START: trap_generate_warm: SNMP 0E-2B-56-1C-89- Internal Use - Confidential \n",
    "0 trap: warm start \n",
    "Feb 22 20:35:07 router1 snmpd[359]: \n",
    "%DAEMON-6-SNMPD_THROTTLE_QUEUE_DRAINED: trap_throttle_timer_handler: cleared all throttled traps \n",
    "Feb 23 07:34:56 3C-21-5A-14-81-0A router1 snmpd[359]: %DAEMON-3- SNMPD_TRAP_WARM_START: trap_generate_warm: SNMP trap: warm start Feb 23 07:38:19 router1 snmpd[359]: %DAEMON-2-SNMPD_TRAP_COLD_START:  trap_generate_cold: SNMP trap: cold start \n",
    "\"\"\"\n",
    "\n",
    "mac_pattern = re.compile(r'\\b([0-9A-Fa-f]{2}[:-]){5}([0-9A-Fa-f]{2})\\b')\n",
    "\n",
    "\n",
    "lines_with_mac = [line.strip() for line in multiline_string.split('\\n') if re.search(mac_pattern, line)]\n",
    "\n",
    "\n",
    "for line in lines_with_mac:\n",
    "    print(line)\n"
   ]
  },
  {
   "cell_type": "code",
   "execution_count": 20,
   "metadata": {},
   "outputs": [
    {
     "name": "stdout",
     "output_type": "stream",
     "text": [
      "253.67.34.9\n",
      "10.145.78.2\n"
     ]
    }
   ],
   "source": [
    "#7\n",
    "import re\n",
    "\n",
    "# Multiline string containing log lines\n",
    "multiline_string = \"\"\"\n",
    "%DAEMON-3-SNMPD_TRAP_WARM_START: trap_generate_warm: 253.67.34.9 SNMP trap: warm start\n",
    "Feb 22 20:35:07 router1 snmpd[359]: %DAEMON-6-SNMPD_THROTTLE_QUEUE_DRAINED: trap_throttle_timer_handler: cleared all throttled traps\n",
    "Feb 23 07:34:56 router1 snmpd[359]: %DAEMON-3-SNMPD_TRAP_WARM_START: trap_generate_warm: 10.145.78.2 SNMP trap: warm start\n",
    "Feb 23 07:38:19 router1 snmpd[359]: %DAEMON-2-SNMPD_TRAP_COLD_START: trap_generate_cold: SNMP trap: cold start\n",
    "\"\"\"\n",
    "\n",
    "# Regular expression pattern to match IP addresses\n",
    "ip_pattern = r'\\b(?:[0-9]{1,3}\\.){3}[0-9]{1,3}\\b'\n",
    "\n",
    "lines_with_ip = re.findall(ip_pattern, multiline_string)\n",
    "\n",
    "for line in lines_with_ip:\n",
    "    print(line)\n"
   ]
  },
  {
   "cell_type": "code",
   "execution_count": null,
   "metadata": {},
   "outputs": [],
   "source": []
  }
 ],
 "metadata": {
  "kernelspec": {
   "display_name": "Python 3",
   "language": "python",
   "name": "python3"
  },
  "language_info": {
   "codemirror_mode": {
    "name": "ipython",
    "version": 3
   },
   "file_extension": ".py",
   "mimetype": "text/x-python",
   "name": "python",
   "nbconvert_exporter": "python",
   "pygments_lexer": "ipython3",
   "version": "3.8.5"
  }
 },
 "nbformat": 4,
 "nbformat_minor": 4
}
