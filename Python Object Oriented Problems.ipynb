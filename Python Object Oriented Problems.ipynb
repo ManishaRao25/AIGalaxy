{
 "cells": [
  {
   "cell_type": "markdown",
   "metadata": {},
   "source": [
    "# 1st Question\n",
    "Design a banking system using Python and advanced OOP principles. The system should allow customers to open accounts, deposit and withdraw funds, transfer money between accounts, and view transaction history. Consider the given requirements."
   ]
  },
  {
   "cell_type": "code",
   "execution_count": 1,
   "metadata": {},
   "outputs": [
    {
     "name": "stdout",
     "output_type": "stream",
     "text": [
      "Alice's transactions:\n",
      "('Deposit', 500)\n",
      "('Withdrawal', 200)\n",
      "('Transfer to 2', 400)\n",
      "\n",
      "Bob's transactions:\n",
      "('Deposit', 300)\n",
      "('Transfer from 1', 400)\n"
     ]
    }
   ],
   "source": [
    "class Account:\n",
    "    def __init__(self, account_number, balance=0):\n",
    "        self.account_number = account_number\n",
    "        self.balance = balance\n",
    "        self.transactions = []\n",
    "\n",
    "    def deposit(self, amount):\n",
    "        self.balance += amount\n",
    "        self.transactions.append((\"Deposit\", amount))\n",
    "\n",
    "    def withdraw(self, amount):\n",
    "        if self.balance >= amount:\n",
    "            self.balance -= amount\n",
    "            self.transactions.append((\"Withdrawal\", amount))\n",
    "        else:\n",
    "            print(\"Insufficient funds\")\n",
    "\n",
    "    def transfer(self, recipient, amount):\n",
    "        if self.balance >= amount:\n",
    "            self.balance -= amount\n",
    "            self.transactions.append((\"Transfer to \" + recipient.account_number, amount))\n",
    "            recipient.balance += amount\n",
    "            recipient.transactions.append((\"Transfer from \" + self.account_number, amount))\n",
    "        else:\n",
    "            print(\"Insufficient funds\")\n",
    "\n",
    "    def view_transactions(self):\n",
    "        for transaction in self.transactions:\n",
    "            print(transaction)\n",
    "\n",
    "\n",
    "class Bank:\n",
    "    def __init__(self):\n",
    "        self.customers = {}\n",
    "\n",
    "    def open_account(self, customer_name, initial_balance=0):\n",
    "        account_number = str(len(self.customers) + 1)\n",
    "        new_account = Account(account_number, initial_balance)\n",
    "        self.customers[customer_name] = new_account\n",
    "        return new_account\n",
    "\n",
    "    def get_account(self, customer_name):\n",
    "        return self.customers.get(customer_name)\n",
    "\n",
    "\n",
    "bank = Bank()\n",
    "\n",
    "# Open accounts\n",
    "alice_account = bank.open_account(\"Alice\", 1000)\n",
    "bob_account = bank.open_account(\"Bob\", 500)\n",
    "\n",
    "# Perform transactions\n",
    "alice_account.deposit(500)\n",
    "alice_account.withdraw(200)\n",
    "bob_account.deposit(300)\n",
    "alice_account.transfer(bob_account, 400)\n",
    "\n",
    "# View transaction history\n",
    "print(\"Alice's transactions:\")\n",
    "alice_account.view_transactions()\n",
    "print(\"\\nBob's transactions:\")\n",
    "bob_account.view_transactions()\n"
   ]
  },
  {
   "cell_type": "markdown",
   "metadata": {},
   "source": [
    "# 2nd Question\n",
    "Design a social media platform using Python and advanced OOP principles.\n",
    "The platform should allow users to create profiles, connect with friends,\n",
    "post updates, comment on posts, and like posts. Consider the given\n",
    "requirements:"
   ]
  },
  {
   "cell_type": "code",
   "execution_count": 2,
   "metadata": {},
   "outputs": [
    {
     "name": "stdout",
     "output_type": "stream",
     "text": [
      "Alice posted: Hello world!\n",
      "Likes: 0, Comments: 0\n",
      "\n"
     ]
    }
   ],
   "source": [
    "from datetime import datetime\n",
    "\n",
    "class User:\n",
    "    def __init__(self, username, email):\n",
    "        self.username = username\n",
    "        self.email = email\n",
    "        self.friends = []\n",
    "        self.posts = []\n",
    "\n",
    "    def add_friend(self, user):\n",
    "        self.friends.append(user)\n",
    "\n",
    "    def create_post(self, content):\n",
    "        new_post = Post(content, self)\n",
    "        self.posts.append(new_post)\n",
    "        return new_post\n",
    "\n",
    "    def like_post(self, post):\n",
    "        post.likes += 1\n",
    "\n",
    "    def comment_on_post(self, post, comment):\n",
    "        post.comments.append((self.username, comment))\n",
    "\n",
    "\n",
    "class Post:\n",
    "    def __init__(self, content, author):\n",
    "        self.content = content\n",
    "        self.author = author\n",
    "        self.timestamp = datetime.now()\n",
    "        self.likes = 0\n",
    "        self.comments = []\n",
    "\n",
    "\n",
    "class SocialMediaPlatform:\n",
    "    def __init__(self):\n",
    "        self.users = {}\n",
    "\n",
    "    def create_user(self, username, email):\n",
    "        if email not in self.users:\n",
    "            new_user = User(username, email)\n",
    "            self.users[email] = new_user\n",
    "            return new_user\n",
    "        else:\n",
    "            print(\"Email already exists\")\n",
    "            return None\n",
    "\n",
    "    def get_user(self, email):\n",
    "        return self.users.get(email)\n",
    "\n",
    "\n",
    "# Example usage:\n",
    "social_media = SocialMediaPlatform()\n",
    "\n",
    "# Create users\n",
    "alice = social_media.create_user(\"Alice\", \"alice@example.com\")\n",
    "bob = social_media.create_user(\"Bob\", \"bob@example.com\")\n",
    "charlie = social_media.create_user(\"Charlie\", \"charlie@example.com\")\n",
    "\n",
    "# Connect friends\n",
    "alice.add_friend(bob)\n",
    "alice.add_friend(charlie)\n",
    "\n",
    "# Create posts\n",
    "post1 = alice.create_post(\"Hello world!\")\n",
    "post2 = bob.create_post(\"I love coding!\")\n",
    "post3 = charlie.create_post(\"Python is awesome!\")\n",
    "\n",
    "# Interact with posts\n",
    "alice.like_post(post2)\n",
    "bob.comment_on_post(post3, \"I agree!\")\n",
    "\n",
    "# View user's posts\n",
    "for post in alice.posts:\n",
    "    print(f\"{post.author.username} posted: {post.content}\")\n",
    "    print(f\"Likes: {post.likes}, Comments: {len(post.comments)}\")\n",
    "    for commenter, comment in post.comments:\n",
    "        print(f\"{commenter} commented: {comment}\")\n",
    "    print()\n"
   ]
  },
  {
   "cell_type": "markdown",
   "metadata": {},
   "source": [
    "# 3rd Question\n",
    "Design an e-commerce platform using Python and advanced OOP\n",
    "principles. The platform should allow users to browse products, add items\n",
    "to their cart, place orders, and track order status. Consider the given\n",
    "requirements:"
   ]
  },
  {
   "cell_type": "code",
   "execution_count": 3,
   "metadata": {},
   "outputs": [
    {
     "name": "stdout",
     "output_type": "stream",
     "text": [
      "Laptop - $999\n",
      "Smartphone - $599\n",
      "Headphones - $99\n",
      "Order placed by Alice on 2024-05-10 12:49:24.833229. Status: Pending\n",
      "Total amount: 2197\n"
     ]
    }
   ],
   "source": [
    "from datetime import datetime\n",
    "\n",
    "class Product:\n",
    "    def __init__(self, name, price, description):\n",
    "        self.name = name\n",
    "        self.price = price\n",
    "        self.description = description\n",
    "\n",
    "    def __str__(self):\n",
    "        return f\"{self.name} - ${self.price}\"\n",
    "\n",
    "\n",
    "class CartItem:\n",
    "    def __init__(self, product, quantity):\n",
    "        self.product = product\n",
    "        self.quantity = quantity\n",
    "\n",
    "    def subtotal(self):\n",
    "        return self.product.price * self.quantity\n",
    "\n",
    "\n",
    "class Order:\n",
    "    ORDER_STATUS = [\"Pending\", \"Processing\", \"Shipped\", \"Delivered\"]\n",
    "\n",
    "    def __init__(self, user, cart):\n",
    "        self.user = user\n",
    "        self.cart = cart\n",
    "        self.order_time = datetime.now()\n",
    "        self.status = self.ORDER_STATUS[0]\n",
    "\n",
    "    def total(self):\n",
    "        return sum(item.subtotal() for item in self.cart)\n",
    "\n",
    "    def __str__(self):\n",
    "        return f\"Order placed by {self.user.username} on {self.order_time}. Status: {self.status}\"\n",
    "\n",
    "\n",
    "class User:\n",
    "    def __init__(self, username, email):\n",
    "        self.username = username\n",
    "        self.email = email\n",
    "\n",
    "    def browse_products(self, products):\n",
    "        for product in products:\n",
    "            print(product)\n",
    "\n",
    "    def add_to_cart(self, cart, product, quantity):\n",
    "        cart_item = CartItem(product, quantity)\n",
    "        cart.append(cart_item)\n",
    "\n",
    "    def place_order(self, cart):\n",
    "        order = Order(self, cart)\n",
    "        return order\n",
    "\n",
    "\n",
    "class ECommercePlatform:\n",
    "    def __init__(self):\n",
    "        self.products = []\n",
    "\n",
    "    def add_product(self, product):\n",
    "        self.products.append(product)\n",
    "\n",
    "    def browse_products(self):\n",
    "        return self.products\n",
    "\n",
    "\n",
    "# Example usage:\n",
    "ecommerce_platform = ECommercePlatform()\n",
    "\n",
    "# Add products\n",
    "product1 = Product(\"Laptop\", 999, \"High-performance laptop\")\n",
    "product2 = Product(\"Smartphone\", 599, \"Latest smartphone model\")\n",
    "product3 = Product(\"Headphones\", 99, \"Wireless headphones\")\n",
    "\n",
    "ecommerce_platform.add_product(product1)\n",
    "ecommerce_platform.add_product(product2)\n",
    "ecommerce_platform.add_product(product3)\n",
    "\n",
    "# Create user\n",
    "user = User(\"Alice\", \"alice@example.com\")\n",
    "\n",
    "# Browse products\n",
    "user.browse_products(ecommerce_platform.browse_products())\n",
    "\n",
    "# Add items to cart\n",
    "cart = []\n",
    "user.add_to_cart(cart, product1, 1)\n",
    "user.add_to_cart(cart, product2, 2)\n",
    "\n",
    "# Place order\n",
    "order = user.place_order(cart)\n",
    "print(order)\n",
    "print(\"Total amount:\", order.total())\n"
   ]
  },
  {
   "cell_type": "markdown",
   "metadata": {},
   "source": [
    "# 4th Question\n",
    "Write a program in Python to print the Fibonacci series using recursive\n",
    "method."
   ]
  },
  {
   "cell_type": "code",
   "execution_count": 5,
   "metadata": {},
   "outputs": [
    {
     "name": "stdout",
     "output_type": "stream",
     "text": [
      "Fibonacci Series:\n",
      "0 1 1 2 3 5 8 13 21 34 "
     ]
    }
   ],
   "source": [
    "def fibonacci(n):\n",
    "    if n <= 1:\n",
    "        return n\n",
    "    else:\n",
    "        return fibonacci(n-1) + fibonacci(n-2)\n",
    "\n",
    "def print_fibonacci_series(count):\n",
    "    if count <= 0:\n",
    "        print(\"Please enter a positive integer.\")\n",
    "    else:\n",
    "        print(\"Fibonacci Series:\")\n",
    "        for i in range(count):\n",
    "            print(fibonacci(i), end=\" \")\n",
    "\n",
    "count = 10  \n",
    "print_fibonacci_series(count)\n"
   ]
  },
  {
   "cell_type": "markdown",
   "metadata": {},
   "source": [
    "# 5th Question\n",
    "Counting the Number of Occurrences of a Character in a String without\n",
    "using count function"
   ]
  },
  {
   "cell_type": "code",
   "execution_count": 6,
   "metadata": {},
   "outputs": [
    {
     "name": "stdout",
     "output_type": "stream",
     "text": [
      "Number of occurrences of 'l' in 'hello world': 3\n"
     ]
    }
   ],
   "source": [
    "def count_occurrences(string, char):\n",
    "    count = 0\n",
    "    for c in string:\n",
    "        if c == char:\n",
    "            count += 1\n",
    "    return count\n",
    "\n",
    "string = \"hello world\"\n",
    "char = \"l\"\n",
    "print(f\"Number of occurrences of '{char}' in '{string}': {count_occurrences(string, char)}\")\n"
   ]
  },
  {
   "cell_type": "markdown",
   "metadata": {},
   "source": [
    "# 6th Question\n",
    "Write a Python function that takes a tuple of strings as input and returns a\n",
    "new tuple with each word capitalized."
   ]
  },
  {
   "cell_type": "code",
   "execution_count": 7,
   "metadata": {},
   "outputs": [
    {
     "name": "stdout",
     "output_type": "stream",
     "text": [
      "('Hello', 'World', 'Python', 'Programming')\n"
     ]
    }
   ],
   "source": [
    "def capitalize_words_in_tuple(tuple_of_strings):\n",
    "    capitalized_words = tuple(word.capitalize() for word in tuple_of_strings)\n",
    "    return capitalized_words\n",
    "\n",
    "# Example usage:\n",
    "input_tuple = (\"hello\", \"world\", \"python\", \"programming\")\n",
    "output_tuple = capitalize_words_in_tuple(input_tuple)\n",
    "print(output_tuple)\n"
   ]
  },
  {
   "cell_type": "markdown",
   "metadata": {},
   "source": [
    "# 7th Question\n",
    "Write a program to find a maximum of three numbers. Without using\n",
    "max , sort function and indexing"
   ]
  },
  {
   "cell_type": "code",
   "execution_count": 8,
   "metadata": {},
   "outputs": [
    {
     "name": "stdout",
     "output_type": "stream",
     "text": [
      "Maximum of 10 , 25 and 15 is: 25\n"
     ]
    }
   ],
   "source": [
    "def find_maximum(a, b, c):\n",
    "    maximum = a\n",
    "    if b > maximum:\n",
    "        maximum = b\n",
    "    if c > maximum:\n",
    "        maximum = c\n",
    "    return maximum\n",
    "\n",
    "num1 = 10\n",
    "num2 = 25\n",
    "num3 = 15\n",
    "\n",
    "maximum = find_maximum(num1, num2, num3)\n",
    "print(\"Maximum of\", num1, \",\", num2, \"and\", num3, \"is:\", maximum)"
   ]
  },
  {
   "cell_type": "markdown",
   "metadata": {},
   "source": [
    "# 8th Question\n",
    "Print the following pattern:\n",
    "\n",
    "    '''\n",
    "           A\n",
    "           1  2\n",
    "           A  B  C\n",
    "           1  2  3  4\n",
    "           A  B  C  D  E  \n",
    "    '''\n"
   ]
  },
  {
   "cell_type": "code",
   "execution_count": 11,
   "metadata": {},
   "outputs": [
    {
     "name": "stdout",
     "output_type": "stream",
     "text": [
      "A \n",
      "1 2 \n",
      "A B C \n",
      "1 2 3 4 \n",
      "A B C D E \n"
     ]
    }
   ],
   "source": [
    "def print_pattern(rows):\n",
    "    for i in range(1, rows + 1):\n",
    "        if i % 2 != 0:\n",
    "            for j in range(1, i + 1):\n",
    "                print(chr(64 + j), end=\" \")\n",
    "        else:\n",
    "            for j in range(1, i + 1):\n",
    "                print(j, end=\" \")\n",
    "        print()\n",
    "\n",
    "rows = 5\n",
    "print_pattern(rows)\n"
   ]
  },
  {
   "cell_type": "markdown",
   "metadata": {},
   "source": [
    "# 9th Question\n",
    "Print the following pattern:\n",
    "             \n",
    "       '''\n",
    "        * * * * * \n",
    "          * * * * \n",
    "            * * * \n",
    "              * * \n",
    "                * \n",
    "              * * \n",
    "            * * * \n",
    "          * * * * \n",
    "        * * * * * "
   ]
  },
  {
   "cell_type": "code",
   "execution_count": 27,
   "metadata": {},
   "outputs": [
    {
     "name": "stdout",
     "output_type": "stream",
     "text": [
      " * * * * * \n",
      "   * * * * \n",
      "     * * * \n",
      "       * * \n",
      "         * \n",
      "           \n",
      "       * * \n",
      "     * * * \n",
      "   * * * * \n",
      " * * * * * \n"
     ]
    }
   ],
   "source": [
    "def print_pattern(rows):\n",
    "    for i in range(rows * 2):\n",
    "        if i <= rows:\n",
    "            print(\" \" * (i * 2), \"* \" * (rows - i))\n",
    "        else:\n",
    "            print(\" \" * ((rows * 2 - i - 1) * 2), \"* \" * (i - rows + 1))\n",
    "\n",
    "print_pattern(5)\n"
   ]
  },
  {
   "cell_type": "code",
   "execution_count": null,
   "metadata": {},
   "outputs": [],
   "source": []
  }
 ],
 "metadata": {
  "kernelspec": {
   "display_name": "Python 3",
   "language": "python",
   "name": "python3"
  },
  "language_info": {
   "codemirror_mode": {
    "name": "ipython",
    "version": 3
   },
   "file_extension": ".py",
   "mimetype": "text/x-python",
   "name": "python",
   "nbconvert_exporter": "python",
   "pygments_lexer": "ipython3",
   "version": "3.8.5"
  }
 },
 "nbformat": 4,
 "nbformat_minor": 4
}
