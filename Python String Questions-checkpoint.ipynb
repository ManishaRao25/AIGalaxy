{
 "cells": [
  {
   "cell_type": "code",
   "execution_count": 1,
   "metadata": {},
   "outputs": [
    {
     "name": "stdout",
     "output_type": "stream",
     "text": [
      "Original string: hello world\n",
      "Character to remove: o\n",
      "Modified string: hell wrld\n"
     ]
    }
   ],
   "source": [
    "#1\n",
    "def remove_character(input_string, char_to_remove):\n",
    "\n",
    "    modified_string = input_string.replace(char_to_remove, \"\")\n",
    "    \n",
    "    return modified_string\n",
    "\n",
    "\n",
    "input_string = \"hello world\"\n",
    "char_to_remove = \"o\"\n",
    "result = remove_character(input_string, char_to_remove)\n",
    "\n",
    "print(\"Original string:\", input_string)\n",
    "print(\"Character to remove:\", char_to_remove)\n",
    "print(\"Modified string:\", result)"
   ]
  },
  {
   "cell_type": "code",
   "execution_count": 2,
   "metadata": {},
   "outputs": [
    {
     "name": "stdout",
     "output_type": "stream",
     "text": [
      "String: hello world\n",
      "Character to count: l\n",
      "Occurrences: 3\n"
     ]
    }
   ],
   "source": [
    "#2\n",
    "def count_occurrences(input_string, char_to_count):\n",
    "    \n",
    "    count = 0\n",
    "    \n",
    "   \n",
    "    for char in input_string:\n",
    "        \n",
    "        if char == char_to_count:\n",
    "            count += 1\n",
    "    \n",
    "    return count\n",
    "\n",
    "input_string = \"hello world\"\n",
    "char_to_count = \"l\"\n",
    "occurrences = count_occurrences(input_string, char_to_count)\n",
    "\n",
    "print(\"String:\", input_string)\n",
    "print(\"Character to count:\", char_to_count)\n",
    "print(\"Occurrences:\", occurrences)\n"
   ]
  },
  {
   "cell_type": "code",
   "execution_count": 3,
   "metadata": {},
   "outputs": [
    {
     "name": "stdout",
     "output_type": "stream",
     "text": [
      "listen and silent are anagrams.\n"
     ]
    }
   ],
   "source": [
    "#3\n",
    "def are_anagrams(str1, str2):\n",
    "    \n",
    "    str1 = str1.replace(\" \", \"\").lower()\n",
    "    str2 = str2.replace(\" \", \"\").lower()\n",
    "    \n",
    "\n",
    "    return sorted(str1) == sorted(str2)\n",
    "\n",
    "\n",
    "string1 = \"listen\"\n",
    "string2 = \"silent\"\n",
    "if are_anagrams(string1, string2):\n",
    "    print(f\"{string1} and {string2} are anagrams.\")\n",
    "else:\n",
    "    print(f\"{string1} and {string2} are not anagrams.\")\n"
   ]
  },
  {
   "cell_type": "code",
   "execution_count": 4,
   "metadata": {},
   "outputs": [
    {
     "name": "stdout",
     "output_type": "stream",
     "text": [
      "A man, a plan, a canal, Panama is not a palindrome.\n"
     ]
    }
   ],
   "source": [
    "#4\n",
    "def is_palindrome(input_string):\n",
    "    \n",
    "    input_string = input_string.replace(\" \", \"\").lower()\n",
    "    \n",
    "    return input_string == input_string[::-1]\n",
    "\n",
    "\n",
    "string = \"A man, a plan, a canal, Panama\"\n",
    "if is_palindrome(string):\n",
    "    print(f\"{string} is a palindrome.\")\n",
    "else:\n",
    "    print(f\"{string} is not a palindrome.\")\n"
   ]
  },
  {
   "cell_type": "code",
   "execution_count": 5,
   "metadata": {},
   "outputs": [
    {
     "name": "stdout",
     "output_type": "stream",
     "text": [
      "Enter a character: M\n",
      "M is a consonant.\n"
     ]
    }
   ],
   "source": [
    "#5\n",
    "def check_vowel_or_consonant(char):\n",
    "    vowels = 'aeiouAEIOU'\n",
    "    if char.isalpha() and len(char) == 1:\n",
    "        if char in vowels:\n",
    "            print(f\"{char} is a vowel.\")\n",
    "        else:\n",
    "            print(f\"{char} is a consonant.\")\n",
    "    else:\n",
    "        print(\"Please enter a single alphabet character.\")\n",
    "\n",
    "character = input(\"Enter a character: \")\n",
    "check_vowel_or_consonant(character)\n"
   ]
  },
  {
   "cell_type": "code",
   "execution_count": 6,
   "metadata": {},
   "outputs": [
    {
     "name": "stdout",
     "output_type": "stream",
     "text": [
      "Enter a character: 8E\n",
      "8E is not a digit.\n"
     ]
    }
   ],
   "source": [
    "#6\n",
    "def check_digit(char):\n",
    "    if char.isdigit() and len(char) == 1:\n",
    "        print(f\"{char} is a digit.\")\n",
    "    else:\n",
    "        print(f\"{char} is not a digit.\")\n",
    "\n",
    "\n",
    "character = input(\"Enter a character: \")\n",
    "check_digit(character)\n"
   ]
  },
  {
   "cell_type": "code",
   "execution_count": 7,
   "metadata": {},
   "outputs": [
    {
     "name": "stdout",
     "output_type": "stream",
     "text": [
      "Enter a character: &6\n",
      "&6 is not a digit.\n"
     ]
    }
   ],
   "source": [
    "#7\n",
    "def check_digit(char):\n",
    "    if char.isdigit():\n",
    "        print(f\"{char} is a digit.\")\n",
    "    else:\n",
    "        print(f\"{char} is not a digit.\")\n",
    "\n",
    "character = input(\"Enter a character: \")\n",
    "check_digit(character)\n"
   ]
  },
  {
   "cell_type": "code",
   "execution_count": 11,
   "metadata": {},
   "outputs": [
    {
     "name": "stdout",
     "output_type": "stream",
     "text": [
      "Hello-people!-This-is-a-test.\n"
     ]
    }
   ],
   "source": [
    "#8\n",
    "def replace_spaces(input_string, replacement_char):\n",
    "    result = ''\n",
    "    for char in input_string:\n",
    "        if char == ' ':\n",
    "            result += replacement_char\n",
    "        else:\n",
    "            result += char\n",
    "    return result\n",
    "\n",
    "input_string = \"Hello people! This is a test.\"\n",
    "replacement_char = '-'\n",
    "output_string = replace_spaces(input_string, replacement_char)\n",
    "print(output_string)\n"
   ]
  },
  {
   "cell_type": "code",
   "execution_count": 10,
   "metadata": {},
   "outputs": [
    {
     "name": "stdout",
     "output_type": "stream",
     "text": [
      "Original string: This is a sample string\n",
      "String with spaces replaced: This-is-a-sample-string\n"
     ]
    }
   ],
   "source": [
    "#9\n",
    "def replace_spaces(string, char):\n",
    "    return string.replace(' ', char)\n",
    "\n",
    "# Example usage:\n",
    "input_string = \"This is a sample string\"\n",
    "replacement_char = '-'\n",
    "result = replace_spaces(input_string, replacement_char)\n",
    "print(\"Original string:\", input_string)\n",
    "print(\"String with spaces replaced:\", result)"
   ]
  },
  {
   "cell_type": "code",
   "execution_count": 13,
   "metadata": {},
   "outputs": [
    {
     "name": "stdout",
     "output_type": "stream",
     "text": [
      "HEy, MAnIshA. HOw ArE yOU?\n"
     ]
    }
   ],
   "source": [
    "#10\n",
    "def convert_lowercase_vowels_to_uppercase(input_string):\n",
    "    vowels = 'aeiou'\n",
    "    result = ''\n",
    "    for char in input_string:\n",
    "        if char in vowels and char.islower():\n",
    "            result += char.upper()\n",
    "        else:\n",
    "            result += char\n",
    "    return result\n",
    "\n",
    "# Example usage:\n",
    "input_string = \"Hey, Manisha. How are you?\"\n",
    "output_string = convert_lowercase_vowels_to_uppercase(input_string)\n",
    "print(output_string)\n"
   ]
  },
  {
   "cell_type": "code",
   "execution_count": 16,
   "metadata": {},
   "outputs": [
    {
     "name": "stdout",
     "output_type": "stream",
     "text": [
      "ThE qUIck brOwn fOx jUmps OvEr thE lAzy dOg.\n"
     ]
    }
   ],
   "source": [
    "#11\n",
    "def convert_lowercase_vowels_to_uppercase(input_string):\n",
    "    vowels = {'a', 'e', 'i', 'o', 'u'}\n",
    "    result = ''\n",
    "    for char in input_string:\n",
    "        if char.islower() and char in vowels:\n",
    "            char = chr(ord(char) - 32)  # ASCII conversion for uppercase\n",
    "        result += char\n",
    "    return result\n",
    "\n",
    "input_string = \"The quick brown fox jumps over the lazy dog.\"\n",
    "output_string = convert_lowercase_vowels_to_uppercase(input_string)\n",
    "print(output_string)\n"
   ]
  },
  {
   "cell_type": "code",
   "execution_count": 18,
   "metadata": {},
   "outputs": [
    {
     "name": "stdout",
     "output_type": "stream",
     "text": [
      "Th qck brwn fx jmps vr th lzy dg.\n"
     ]
    }
   ],
   "source": [
    "#12\n",
    "def delete_vowels(input_string):\n",
    "    vowels = {'a', 'e', 'i', 'o', 'u', 'A', 'E', 'I', 'O', 'U'}\n",
    "    result = ''\n",
    "    for char in input_string:\n",
    "        if char not in vowels:\n",
    "            result += char\n",
    "    return result\n",
    "\n",
    "input_string = \"The quick brown fox jumps over the lazy dog.\"\n",
    "output_string = delete_vowels(input_string)\n",
    "print(output_string)\n"
   ]
  },
  {
   "cell_type": "code",
   "execution_count": 19,
   "metadata": {},
   "outputs": [
    {
     "name": "stdout",
     "output_type": "stream",
     "text": [
      "Number of vowels: 7\n",
      "Number of consonants: 14\n"
     ]
    }
   ],
   "source": [
    "#13\n",
    "def count_vowels_and_consonants(input_string):\n",
    "    vowels = {'a', 'e', 'i', 'o', 'u', 'A', 'E', 'I', 'O', 'U'}\n",
    "    vowels_count = 0\n",
    "    consonants_count = 0\n",
    "    for char in input_string:\n",
    "        if char.isalpha():\n",
    "            if char in vowels:\n",
    "                vowels_count += 1\n",
    "            else:\n",
    "                consonants_count += 1\n",
    "    return vowels_count, consonants_count\n",
    "\n",
    "input_string = \"Hello world! This is a test.\"\n",
    "vowels, consonants = count_vowels_and_consonants(input_string)\n",
    "print(\"Number of vowels:\", vowels)\n",
    "print(\"Number of consonants:\", consonants)\n"
   ]
  },
  {
   "cell_type": "code",
   "execution_count": 21,
   "metadata": {},
   "outputs": [
    {
     "name": "stdout",
     "output_type": "stream",
     "text": [
      "Highest frequency characters: [' ']\n",
      "Frequency: 4\n"
     ]
    }
   ],
   "source": [
    "#14\n",
    "def highest_frequency_character(input_string):\n",
    "    char_frequency = {}\n",
    "    for char in input_string:\n",
    "        if char in char_frequency:\n",
    "            char_frequency[char] += 1\n",
    "        else:\n",
    "            char_frequency[char] = 1\n",
    "    max_frequency = max(char_frequency.values())\n",
    "    highest_frequency_chars = [char for char, freq in char_frequency.items() if freq == max_frequency]\n",
    "    return highest_frequency_chars, max_frequency\n",
    "\n",
    "input_string = \"Hey,people. I am a Python.\"\n",
    "highest_chars, max_freq = highest_frequency_character(input_string)\n",
    "print(\"Highest frequency characters:\", highest_chars)\n",
    "print(\"Frequency:\", max_freq)\n"
   ]
  },
  {
   "cell_type": "code",
   "execution_count": 23,
   "metadata": {},
   "outputs": [
    {
     "name": "stdout",
     "output_type": "stream",
     "text": [
      "S-cc-ss -s n-t fin-l, failure is not fatal.-t is the courage to continue that counts\n"
     ]
    }
   ],
   "source": [
    "#15\n",
    "def replace_first_vowel_with_dash(input_string):\n",
    "    vowels = {'a', 'e', 'i', 'o', 'u', 'A', 'E', 'I', 'O', 'U'}\n",
    "    result = ''\n",
    "    found_vowels = set()\n",
    "    for char in input_string:\n",
    "        if char in vowels and char not in found_vowels:\n",
    "            result += '-'\n",
    "            found_vowels.add(char)\n",
    "        else:\n",
    "            result += char\n",
    "    return result\n",
    "\n",
    "# Example usage:\n",
    "input_string = \"Success is not final, failure is not fatal.It is the courage to continue that counts\"\n",
    "output_string = replace_first_vowel_with_dash(input_string)\n",
    "print(output_string)\n"
   ]
  },
  {
   "cell_type": "code",
   "execution_count": 24,
   "metadata": {},
   "outputs": [
    {
     "name": "stdout",
     "output_type": "stream",
     "text": [
      "Alphabets: 14\n",
      "Digits: 3\n",
      "Special Characters: 5\n"
     ]
    }
   ],
   "source": [
    "#16\n",
    "def count_characters(input_string):\n",
    "    alphabets = digits = special_chars = 0\n",
    "    for char in input_string:\n",
    "        if char.isalpha():\n",
    "            alphabets += 1\n",
    "        elif char.isdigit():\n",
    "            digits += 1\n",
    "        else:\n",
    "            special_chars += 1\n",
    "    return alphabets, digits, special_chars\n",
    "\n",
    "# Example usage:\n",
    "input_string = \"Hello123! How are you?\"\n",
    "alphabets, digits, special_chars = count_characters(input_string)\n",
    "print(\"Alphabets:\", alphabets)\n",
    "print(\"Digits:\", digits)\n",
    "print(\"Special Characters:\", special_chars)\n"
   ]
  },
  {
   "cell_type": "code",
   "execution_count": 26,
   "metadata": {},
   "outputs": [
    {
     "name": "stdout",
     "output_type": "stream",
     "text": [
      "['T', 'w', 'i', 'n', 'k', 'l', 'e']\n"
     ]
    }
   ],
   "source": [
    "# 17\n",
    "def separate_characters(input_string):\n",
    "    characters = []\n",
    "    for char in input_string:\n",
    "        characters.append(char)\n",
    "    return characters\n",
    "\n",
    "# Example usage:\n",
    "input_string = \"Twinkle\"\n",
    "separated_chars = separate_characters(input_string)\n",
    "print(separated_chars)\n"
   ]
  },
  {
   "cell_type": "code",
   "execution_count": 28,
   "metadata": {},
   "outputs": [
    {
     "name": "stdout",
     "output_type": "stream",
     "text": [
      "HelloUser!CanIaskyouaquestion?\n"
     ]
    }
   ],
   "source": [
    "#18\n",
    "def remove_spaces(input_string):\n",
    "    result = ''\n",
    "    for char in input_string:\n",
    "        if char != ' ':\n",
    "            result += char\n",
    "    return result\n",
    "\n",
    "input_string = \"Hello User!Can I ask you a question?\"\n",
    "output_string = remove_spaces(input_string)\n",
    "print(output_string)\n"
   ]
  },
  {
   "cell_type": "code",
   "execution_count": 31,
   "metadata": {},
   "outputs": [
    {
     "name": "stdout",
     "output_type": "stream",
     "text": [
      "Hey there,I am a python code.\n"
     ]
    }
   ],
   "source": [
    "#19\n",
    "def concatenate_strings(str1, str2):\n",
    "    strings = [str1, str2]\n",
    "    result = ''.join(strings)\n",
    "    return result\n",
    "\n",
    "string1 = \"Hey there,\"\n",
    "string2 = \"I am a python code.\"\n",
    "concatenated_string = concatenate_strings(string1, string2)\n",
    "print(concatenated_string)\n"
   ]
  },
  {
   "cell_type": "code",
   "execution_count": 30,
   "metadata": {},
   "outputs": [
    {
     "name": "stdout",
     "output_type": "stream",
     "text": [
      "Hey there,I'm a python code.\n"
     ]
    }
   ],
   "source": [
    "#20\n",
    "def concatenate_strings(str1, str2):\n",
    "    return str1 + str2\n",
    "\n",
    "string1 = \"Hey there,\"\n",
    "string2 = \"I'm a python code.\"\n",
    "concatenated_string = concatenate_strings(string1, string2)\n",
    "print(concatenated_string)\n"
   ]
  },
  {
   "cell_type": "code",
   "execution_count": 34,
   "metadata": {},
   "outputs": [
    {
     "name": "stdout",
     "output_type": "stream",
     "text": [
      "rive\n"
     ]
    }
   ],
   "source": [
    "#21\n",
    "def remove_repeated_characters(input_string):\n",
    "    seen_chars = set()\n",
    "    result = ''\n",
    "    for char in input_string:\n",
    "        if char not in seen_chars:\n",
    "            result += char\n",
    "            seen_chars.add(char)\n",
    "    return result\n",
    "input_string = \"river\"\n",
    "output_string = remove_repeated_characters(input_string)\n",
    "print(output_string)\n"
   ]
  },
  {
   "cell_type": "code",
   "execution_count": 35,
   "metadata": {},
   "outputs": [
    {
     "name": "stdout",
     "output_type": "stream",
     "text": [
      "Sum of integers in the string: 18\n"
     ]
    }
   ],
   "source": [
    "#22\n",
    "def sum_of_integers(input_string):\n",
    "    current_number = ''\n",
    "    total_sum = 0\n",
    "    for char in input_string:\n",
    "        if char.isdigit():\n",
    "            current_number += char\n",
    "        elif current_number:\n",
    "            total_sum += int(current_number)\n",
    "            current_number = ''\n",
    "    if current_number:\n",
    "        total_sum += int(current_number)\n",
    "    return total_sum\n",
    "\n",
    "input_string = \"I have 5 apples and 3 bananas, and it costs $10.\"\n",
    "sum_of_numbers = sum_of_integers(input_string)\n",
    "print(\"Sum of integers in the string:\", sum_of_numbers)\n"
   ]
  },
  {
   "cell_type": "code",
   "execution_count": 36,
   "metadata": {},
   "outputs": [
    {
     "name": "stdout",
     "output_type": "stream",
     "text": [
      "Non-repeating characters in 'Hello Universe' are:\n",
      "H o   U n i v r s "
     ]
    }
   ],
   "source": [
    "#23\n",
    "def print_non_repeating_characters(s):\n",
    "    char_freq = {}\n",
    "    for char in s:\n",
    "        char_freq[char] = char_freq.get(char, 0) + 1\n",
    "    \n",
    "    for char in s:\n",
    "        if char_freq[char] == 1:\n",
    "            print(char, end=' ')\n",
    "            \n",
    "s = \"Hello Universe\"\n",
    "print(\"Non-repeating characters in '{}' are:\".format(s))\n",
    "print_non_repeating_characters(s)\n"
   ]
  },
  {
   "cell_type": "code",
   "execution_count": 37,
   "metadata": {},
   "outputs": [
    {
     "name": "stdout",
     "output_type": "stream",
     "text": [
      "Original string: Hello, this is just a sample string.\n",
      "Copied string: Hello, this is just a sample string.\n"
     ]
    }
   ],
   "source": [
    "#24\n",
    "def copy_string(original):\n",
    "    copied_string = \"\"\n",
    "    for char in original:\n",
    "    \n",
    "        copied_string += char\n",
    "\n",
    "    return copied_string\n",
    "\n",
    "original_string = \"Hello, this is just a sample string.\"\n",
    "copied_string = copy_string(original_string)\n",
    "print(\"Original string:\", original_string)\n",
    "print(\"Copied string:\", copied_string)\n"
   ]
  },
  {
   "cell_type": "code",
   "execution_count": 41,
   "metadata": {},
   "outputs": [
    {
     "name": "stdout",
     "output_type": "stream",
     "text": [
      "Original string: Hey!This is a sample text.\n",
      "Sorted string:     !.HTaaeeehiilmpsssttxy\n"
     ]
    }
   ],
   "source": [
    "#25\n",
    "def sort_characters(string):\n",
    "    sorted_string = ''.join(sorted(string))\n",
    "    return sorted_string\n",
    "\n",
    "input_string = \"Hey!This is a sample text.\"\n",
    "sorted_string = sort_characters(input_string)\n",
    "print(\"Original string:\", input_string)\n",
    "print(\"Sorted string:\", sorted_string)\n"
   ]
  },
  {
   "cell_type": "code",
   "execution_count": 39,
   "metadata": {},
   "outputs": [
    {
     "name": "stdout",
     "output_type": "stream",
     "text": [
      "Original string: The quick brown fox jumps over the lazy dog.\n",
      "Sorted string (descending): zyxwvuutsrrqpoooonmlkjihhgfeeedcbaT.        \n"
     ]
    }
   ],
   "source": [
    "#26\n",
    "def sort_characters_descending(string):\n",
    "    sorted_string = ''.join(sorted(string, reverse=True))\n",
    "    \n",
    "    return sorted_string\n",
    "input_string = \"The quick brown fox jumps over the lazy dog.\"\n",
    "sorted_desc_string = sort_characters_descending(input_string)\n",
    "print(\"Original string:\", input_string)\n",
    "print(\"Sorted string (descending):\", sorted_desc_string)\n"
   ]
  },
  {
   "cell_type": "code",
   "execution_count": null,
   "metadata": {},
   "outputs": [],
   "source": []
  }
 ],
 "metadata": {
  "kernelspec": {
   "display_name": "Python 3",
   "language": "python",
   "name": "python3"
  },
  "language_info": {
   "codemirror_mode": {
    "name": "ipython",
    "version": 3
   },
   "file_extension": ".py",
   "mimetype": "text/x-python",
   "name": "python",
   "nbconvert_exporter": "python",
   "pygments_lexer": "ipython3",
   "version": "3.8.5"
  }
 },
 "nbformat": 4,
 "nbformat_minor": 4
}
